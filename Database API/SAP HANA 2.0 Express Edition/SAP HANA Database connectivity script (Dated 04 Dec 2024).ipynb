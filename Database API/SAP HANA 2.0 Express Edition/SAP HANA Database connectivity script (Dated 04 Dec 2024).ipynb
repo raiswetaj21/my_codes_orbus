{
 "cells": [
  {
   "cell_type": "code",
   "execution_count": 1,
   "id": "771ffbcb",
   "metadata": {},
   "outputs": [
    {
     "name": "stdout",
     "output_type": "stream",
     "text": [
      "Collecting hdbcli\n",
      "  Obtaining dependency information for hdbcli from https://files.pythonhosted.org/packages/3e/a5/5f1d4e0d19c121d0bfaed2aba2858394ff5ef907654246a7b14e001d3e9a/hdbcli-2.22.32-cp36-abi3-win_amd64.whl.metadata\n",
      "  Downloading hdbcli-2.22.32-cp36-abi3-win_amd64.whl.metadata (6.1 kB)\n",
      "Downloading hdbcli-2.22.32-cp36-abi3-win_amd64.whl (3.6 MB)\n",
      "   ---------------------------------------- 0.0/3.6 MB ? eta -:--:--\n",
      "   -- ------------------------------------- 0.2/3.6 MB 6.6 MB/s eta 0:00:01\n",
      "   ----- ---------------------------------- 0.5/3.6 MB 5.6 MB/s eta 0:00:01\n",
      "   ------- -------------------------------- 0.7/3.6 MB 5.6 MB/s eta 0:00:01\n",
      "   ---------- ----------------------------- 1.0/3.6 MB 5.6 MB/s eta 0:00:01\n",
      "   ------------- -------------------------- 1.2/3.6 MB 5.5 MB/s eta 0:00:01\n",
      "   ---------------- ----------------------- 1.5/3.6 MB 5.6 MB/s eta 0:00:01\n",
      "   ------------------- -------------------- 1.7/3.6 MB 5.5 MB/s eta 0:00:01\n",
      "   ---------------------- ----------------- 2.0/3.6 MB 5.6 MB/s eta 0:00:01\n",
      "   ------------------------ --------------- 2.2/3.6 MB 5.5 MB/s eta 0:00:01\n",
      "   --------------------------- ------------ 2.5/3.6 MB 5.5 MB/s eta 0:00:01\n",
      "   ----------------------------- ---------- 2.7/3.6 MB 5.5 MB/s eta 0:00:01\n",
      "   ------------------------------- -------- 2.8/3.6 MB 5.3 MB/s eta 0:00:01\n",
      "   --------------------------------- ------ 3.0/3.6 MB 5.1 MB/s eta 0:00:01\n",
      "   ------------------------------------ --- 3.3/3.6 MB 5.1 MB/s eta 0:00:01\n",
      "   ---------------------------------------  3.5/3.6 MB 5.2 MB/s eta 0:00:01\n",
      "   ---------------------------------------- 3.6/3.6 MB 5.0 MB/s eta 0:00:00\n",
      "Installing collected packages: hdbcli\n",
      "Successfully installed hdbcli-2.22.32\n"
     ]
    }
   ],
   "source": [
    "!pip install hdbcli"
   ]
  },
  {
   "cell_type": "code",
   "execution_count": 1,
   "id": "f3bdaaac",
   "metadata": {},
   "outputs": [],
   "source": [
    "import pandas as pd\n",
    "from hdbcli import dbapi\n",
    "import warnings\n",
    "warnings.filterwarnings('ignore')"
   ]
  },
  {
   "cell_type": "code",
   "execution_count": 3,
   "id": "d5f97f3f",
   "metadata": {},
   "outputs": [
    {
     "ename": "Error",
     "evalue": "(-10709, \"Connection failed (RTE:[89006] System call 'connect' failed, rc=10061:No connection could be made because the target machine actively refused it (localhost:39015))\")",
     "output_type": "error",
     "traceback": [
      "\u001b[1;31m---------------------------------------------------------------------------\u001b[0m",
      "\u001b[1;31mError\u001b[0m                                     Traceback (most recent call last)",
      "Cell \u001b[1;32mIn[3], line 2\u001b[0m\n\u001b[0;32m      1\u001b[0m \u001b[38;5;66;03m# Establish connection\u001b[39;00m\n\u001b[1;32m----> 2\u001b[0m conn \u001b[38;5;241m=\u001b[39m dbapi\u001b[38;5;241m.\u001b[39mconnect(\n\u001b[0;32m      3\u001b[0m     address\u001b[38;5;241m=\u001b[39m\u001b[38;5;124m\"\u001b[39m\u001b[38;5;124mlocalhost\u001b[39m\u001b[38;5;124m\"\u001b[39m,  \u001b[38;5;66;03m# SAP HANA host\u001b[39;00m\n\u001b[0;32m      4\u001b[0m     port\u001b[38;5;241m=\u001b[39m\u001b[38;5;241m39015\u001b[39m,           \u001b[38;5;66;03m# SAP HANA SQL port\u001b[39;00m\n\u001b[0;32m      5\u001b[0m     user\u001b[38;5;241m=\u001b[39m\u001b[38;5;124m\"\u001b[39m\u001b[38;5;124mSYSTEM\u001b[39m\u001b[38;5;124m\"\u001b[39m,        \u001b[38;5;66;03m# Your username\u001b[39;00m\n\u001b[0;32m      6\u001b[0m     password\u001b[38;5;241m=\u001b[39m\u001b[38;5;124m\"\u001b[39m\u001b[38;5;124mGaara@123\u001b[39m\u001b[38;5;124m\"\u001b[39m \u001b[38;5;66;03m# Your password\u001b[39;00m\n\u001b[0;32m      7\u001b[0m )\n",
      "\u001b[1;31mError\u001b[0m: (-10709, \"Connection failed (RTE:[89006] System call 'connect' failed, rc=10061:No connection could be made because the target machine actively refused it (localhost:39015))\")"
     ]
    }
   ],
   "source": [
    "# Establish connection\n",
    "conn = dbapi.connect(\n",
    "    address=\"localhost\",  # SAP HANA host\n",
    "    port=39015,           # SAP HANA SQL port\n",
    "    user=\"SYSTEM\",        # Your username\n",
    "    password=\"Gaara@123\" # Your password\n",
    ")"
   ]
  },
  {
   "cell_type": "code",
   "execution_count": 4,
   "id": "b843989b",
   "metadata": {},
   "outputs": [
    {
     "ename": "Error",
     "evalue": "(-10709, \"Connection failed (RTE:[89006] System call 'connect' failed, rc=10049:The requested address is not valid in its context {0.0.0.0:39015} (0.0.0.0:39015))\")",
     "output_type": "error",
     "traceback": [
      "\u001b[1;31m---------------------------------------------------------------------------\u001b[0m",
      "\u001b[1;31mError\u001b[0m                                     Traceback (most recent call last)",
      "Cell \u001b[1;32mIn[4], line 2\u001b[0m\n\u001b[0;32m      1\u001b[0m \u001b[38;5;66;03m# Establish connection\u001b[39;00m\n\u001b[1;32m----> 2\u001b[0m conn \u001b[38;5;241m=\u001b[39m dbapi\u001b[38;5;241m.\u001b[39mconnect(\n\u001b[0;32m      3\u001b[0m     address\u001b[38;5;241m=\u001b[39m\u001b[38;5;124m\"\u001b[39m\u001b[38;5;124m0.0.0.0\u001b[39m\u001b[38;5;124m\"\u001b[39m,  \u001b[38;5;66;03m# SAP HANA host\u001b[39;00m\n\u001b[0;32m      4\u001b[0m     port\u001b[38;5;241m=\u001b[39m\u001b[38;5;241m39015\u001b[39m,           \u001b[38;5;66;03m# SAP HANA SQL port\u001b[39;00m\n\u001b[0;32m      5\u001b[0m     user\u001b[38;5;241m=\u001b[39m\u001b[38;5;124m\"\u001b[39m\u001b[38;5;124mSYSTEM\u001b[39m\u001b[38;5;124m\"\u001b[39m,        \u001b[38;5;66;03m# Your username\u001b[39;00m\n\u001b[0;32m      6\u001b[0m     password\u001b[38;5;241m=\u001b[39m\u001b[38;5;124m\"\u001b[39m\u001b[38;5;124mGaara@123\u001b[39m\u001b[38;5;124m\"\u001b[39m \u001b[38;5;66;03m# Your password\u001b[39;00m\n\u001b[0;32m      7\u001b[0m )\n",
      "\u001b[1;31mError\u001b[0m: (-10709, \"Connection failed (RTE:[89006] System call 'connect' failed, rc=10049:The requested address is not valid in its context {0.0.0.0:39015} (0.0.0.0:39015))\")"
     ]
    }
   ],
   "source": [
    "# Establish connection\n",
    "conn = dbapi.connect(\n",
    "    address=\"0.0.0.0\",  # SAP HANA host\n",
    "    port=39015,           # SAP HANA SQL port\n",
    "    user=\"SYSTEM\",        # Your username\n",
    "    password=\"Gaara@123\" # Your password\n",
    ")"
   ]
  },
  {
   "cell_type": "code",
   "execution_count": 5,
   "id": "dfc8dc29",
   "metadata": {},
   "outputs": [
    {
     "ename": "Error",
     "evalue": "(-10709, \"Connection failed (RTE:[89006] System call 'connect' failed, rc=10060:A connection attempt failed because the connected party did not properly respond after a period of time, or established connection failed because connected host has failed to respond {192.168.124.128:39015} (192.168.124.128:39015))\")",
     "output_type": "error",
     "traceback": [
      "\u001b[1;31m---------------------------------------------------------------------------\u001b[0m",
      "\u001b[1;31mError\u001b[0m                                     Traceback (most recent call last)",
      "Cell \u001b[1;32mIn[5], line 2\u001b[0m\n\u001b[0;32m      1\u001b[0m \u001b[38;5;66;03m# Establish connection\u001b[39;00m\n\u001b[1;32m----> 2\u001b[0m conn \u001b[38;5;241m=\u001b[39m dbapi\u001b[38;5;241m.\u001b[39mconnect(\n\u001b[0;32m      3\u001b[0m     address\u001b[38;5;241m=\u001b[39m\u001b[38;5;124m\"\u001b[39m\u001b[38;5;124m192.168.124.128\u001b[39m\u001b[38;5;124m\"\u001b[39m,  \u001b[38;5;66;03m# SAP HANA host\u001b[39;00m\n\u001b[0;32m      4\u001b[0m     port\u001b[38;5;241m=\u001b[39m\u001b[38;5;241m39015\u001b[39m,           \u001b[38;5;66;03m# SAP HANA SQL port\u001b[39;00m\n\u001b[0;32m      5\u001b[0m     user\u001b[38;5;241m=\u001b[39m\u001b[38;5;124m\"\u001b[39m\u001b[38;5;124mSYSTEM\u001b[39m\u001b[38;5;124m\"\u001b[39m,        \u001b[38;5;66;03m# Your username\u001b[39;00m\n\u001b[0;32m      6\u001b[0m     password\u001b[38;5;241m=\u001b[39m\u001b[38;5;124m\"\u001b[39m\u001b[38;5;124mGaara@123\u001b[39m\u001b[38;5;124m\"\u001b[39m \u001b[38;5;66;03m# Your password\u001b[39;00m\n\u001b[0;32m      7\u001b[0m )\n",
      "\u001b[1;31mError\u001b[0m: (-10709, \"Connection failed (RTE:[89006] System call 'connect' failed, rc=10060:A connection attempt failed because the connected party did not properly respond after a period of time, or established connection failed because connected host has failed to respond {192.168.124.128:39015} (192.168.124.128:39015))\")"
     ]
    }
   ],
   "source": [
    "# Establish connection\n",
    "conn = dbapi.connect(\n",
    "    address=\"192.168.124.128\",  # SAP HANA host\n",
    "    port=39015,           # SAP HANA SQL port\n",
    "    user=\"SYSTEM\",        # Your username\n",
    "    password=\"Gaara@123\" # Your password\n",
    ")"
   ]
  },
  {
   "cell_type": "code",
   "execution_count": 6,
   "id": "73d9d1cf",
   "metadata": {},
   "outputs": [
    {
     "ename": "Error",
     "evalue": "(-10709, \"Connection failed (RTE:[89006] System call 'connect' failed, rc=10060:A connection attempt failed because the connected party did not properly respond after a period of time, or established connection failed because connected host has failed to respond {192.168.124.128:39015} (192.168.124.128:39015))\")",
     "output_type": "error",
     "traceback": [
      "\u001b[1;31m---------------------------------------------------------------------------\u001b[0m",
      "\u001b[1;31mError\u001b[0m                                     Traceback (most recent call last)",
      "Cell \u001b[1;32mIn[6], line 2\u001b[0m\n\u001b[0;32m      1\u001b[0m \u001b[38;5;66;03m# Establish connection\u001b[39;00m\n\u001b[1;32m----> 2\u001b[0m conn \u001b[38;5;241m=\u001b[39m dbapi\u001b[38;5;241m.\u001b[39mconnect(\n\u001b[0;32m      3\u001b[0m     address\u001b[38;5;241m=\u001b[39m\u001b[38;5;124m\"\u001b[39m\u001b[38;5;124m192.168.124.128\u001b[39m\u001b[38;5;124m\"\u001b[39m,  \u001b[38;5;66;03m# SAP HANA VM IP\u001b[39;00m\n\u001b[0;32m      4\u001b[0m     port\u001b[38;5;241m=\u001b[39m\u001b[38;5;241m39015\u001b[39m,                 \u001b[38;5;66;03m# Correct port\u001b[39;00m\n\u001b[0;32m      5\u001b[0m     user\u001b[38;5;241m=\u001b[39m\u001b[38;5;124m\"\u001b[39m\u001b[38;5;124mSYSTEM\u001b[39m\u001b[38;5;124m\"\u001b[39m,              \u001b[38;5;66;03m# SAP HANA user\u001b[39;00m\n\u001b[0;32m      6\u001b[0m     password\u001b[38;5;241m=\u001b[39m\u001b[38;5;124m\"\u001b[39m\u001b[38;5;124mGaara@123\u001b[39m\u001b[38;5;124m\"\u001b[39m  \u001b[38;5;66;03m# Correct password\u001b[39;00m\n\u001b[0;32m      7\u001b[0m )\n",
      "\u001b[1;31mError\u001b[0m: (-10709, \"Connection failed (RTE:[89006] System call 'connect' failed, rc=10060:A connection attempt failed because the connected party did not properly respond after a period of time, or established connection failed because connected host has failed to respond {192.168.124.128:39015} (192.168.124.128:39015))\")"
     ]
    }
   ],
   "source": [
    "# Establish connection\n",
    "conn = dbapi.connect(\n",
    "    address=\"192.168.124.128\",  # SAP HANA VM IP\n",
    "    port=39015,                 # Correct SAP HANA SQL port\n",
    "    user=\"SYSTEM\",              # SAP HANA user\n",
    "    password=\"Gaara@123\"  # Correct password\n",
    ")"
   ]
  },
  {
   "cell_type": "code",
   "execution_count": 9,
   "id": "e6c45a97",
   "metadata": {},
   "outputs": [
    {
     "ename": "Error",
     "evalue": "(-10709, \"Connection failed (RTE:[89006] System call 'connect' failed, rc=10060:A connection attempt failed because the connected party did not properly respond after a period of time, or established connection failed because connected host has failed to respond {192.168.124.128:39015} (192.168.124.128:39015))\")",
     "output_type": "error",
     "traceback": [
      "\u001b[1;31m---------------------------------------------------------------------------\u001b[0m",
      "\u001b[1;31mError\u001b[0m                                     Traceback (most recent call last)",
      "Cell \u001b[1;32mIn[9], line 2\u001b[0m\n\u001b[0;32m      1\u001b[0m \u001b[38;5;66;03m# Establish connection to SAP HANA\u001b[39;00m\n\u001b[1;32m----> 2\u001b[0m conn \u001b[38;5;241m=\u001b[39m dbapi\u001b[38;5;241m.\u001b[39mconnect(\n\u001b[0;32m      3\u001b[0m     address\u001b[38;5;241m=\u001b[39m\u001b[38;5;124m\"\u001b[39m\u001b[38;5;124m192.168.124.128\u001b[39m\u001b[38;5;124m\"\u001b[39m,  \u001b[38;5;66;03m# Use localhost if you have port forwarding set\u001b[39;00m\n\u001b[0;32m      4\u001b[0m     port\u001b[38;5;241m=\u001b[39m\u001b[38;5;241m39015\u001b[39m,           \u001b[38;5;66;03m# Default SAP HANA SQL port\u001b[39;00m\n\u001b[0;32m      5\u001b[0m     user\u001b[38;5;241m=\u001b[39m\u001b[38;5;124m\"\u001b[39m\u001b[38;5;124mSYSTEM\u001b[39m\u001b[38;5;124m\"\u001b[39m,        \u001b[38;5;66;03m# SAP HANA user (replace with your own user)\u001b[39;00m\n\u001b[0;32m      6\u001b[0m     password\u001b[38;5;241m=\u001b[39m\u001b[38;5;124m\"\u001b[39m\u001b[38;5;124mGaara@123\u001b[39m\u001b[38;5;124m\"\u001b[39m  \u001b[38;5;66;03m# SAP HANA password (replace with your own password)\u001b[39;00m\n\u001b[0;32m      7\u001b[0m )\n\u001b[0;32m      9\u001b[0m \u001b[38;5;28mprint\u001b[39m(\u001b[38;5;124m\"\u001b[39m\u001b[38;5;124mConnection established successfully!\u001b[39m\u001b[38;5;124m\"\u001b[39m)\n",
      "\u001b[1;31mError\u001b[0m: (-10709, \"Connection failed (RTE:[89006] System call 'connect' failed, rc=10060:A connection attempt failed because the connected party did not properly respond after a period of time, or established connection failed because connected host has failed to respond {192.168.124.128:39015} (192.168.124.128:39015))\")"
     ]
    }
   ],
   "source": [
    "# Establish connection to SAP HANA\n",
    "conn = dbapi.connect(\n",
    "    address=\"192.168.124.128\",  # Use localhost if you have port forwarding set\n",
    "    port=39015,           # Default SAP HANA SQL port\n",
    "    user=\"SYSTEM\",        # SAP HANA user (replace with your own user)\n",
    "    password=\"Gaara@123\"  # SAP HANA password (replace with your own password)\n",
    ")\n",
    "\n",
    "print(\"Connection established successfully!\")"
   ]
  },
  {
   "cell_type": "markdown",
   "id": "37219668",
   "metadata": {},
   "source": [
    "# Date: 06 Dec 2024"
   ]
  },
  {
   "cell_type": "code",
   "execution_count": 4,
   "id": "13bcbcf0",
   "metadata": {},
   "outputs": [
    {
     "ename": "Error",
     "evalue": "(-10709, \"Connection failed (RTE:[89006] System call 'connect' failed, rc=10061:No connection could be made because the target machine actively refused it {127.0.0.1:39015} (127.0.0.1:39015))\")",
     "output_type": "error",
     "traceback": [
      "\u001b[1;31m---------------------------------------------------------------------------\u001b[0m",
      "\u001b[1;31mError\u001b[0m                                     Traceback (most recent call last)",
      "Cell \u001b[1;32mIn[4], line 2\u001b[0m\n\u001b[0;32m      1\u001b[0m \u001b[38;5;66;03m# Step 2.1: Establish a connection to SAP HANA\u001b[39;00m\n\u001b[1;32m----> 2\u001b[0m connection \u001b[38;5;241m=\u001b[39m dbapi\u001b[38;5;241m.\u001b[39mconnect(\n\u001b[0;32m      3\u001b[0m     address\u001b[38;5;241m=\u001b[39m\u001b[38;5;124m\"\u001b[39m\u001b[38;5;124m127.0.0.1\u001b[39m\u001b[38;5;124m\"\u001b[39m,  \u001b[38;5;66;03m# Use \"localhost\" or the VM IP address\u001b[39;00m\n\u001b[0;32m      4\u001b[0m     port\u001b[38;5;241m=\u001b[39m\u001b[38;5;241m39015\u001b[39m,           \u001b[38;5;66;03m# Default SAP HANA port\u001b[39;00m\n\u001b[0;32m      5\u001b[0m     user\u001b[38;5;241m=\u001b[39m\u001b[38;5;124m\"\u001b[39m\u001b[38;5;124mSYSTEM\u001b[39m\u001b[38;5;124m\"\u001b[39m,        \u001b[38;5;66;03m# Your SAP HANA username\u001b[39;00m\n\u001b[0;32m      6\u001b[0m     password\u001b[38;5;241m=\u001b[39m\u001b[38;5;124m\"\u001b[39m\u001b[38;5;124mGaara@123\u001b[39m\u001b[38;5;124m\"\u001b[39m  \u001b[38;5;66;03m# Your SAP HANA password\u001b[39;00m\n\u001b[0;32m      7\u001b[0m )\n",
      "\u001b[1;31mError\u001b[0m: (-10709, \"Connection failed (RTE:[89006] System call 'connect' failed, rc=10061:No connection could be made because the target machine actively refused it {127.0.0.1:39015} (127.0.0.1:39015))\")"
     ]
    }
   ],
   "source": [
    "# Step 2.1: Establish a connection to SAP HANA\n",
    "connection = dbapi.connect(\n",
    "    address=\"127.0.0.1\",  # Use \"localhost\" or the VM IP address\n",
    "    port=39015,           # Default SAP HANA port\n",
    "    user=\"SYSTEM\",        # Your SAP HANA username\n",
    "    password=\"Gaara@123\"  # Your SAP HANA password\n",
    ")"
   ]
  },
  {
   "cell_type": "code",
   "execution_count": 5,
   "id": "c5382a09",
   "metadata": {},
   "outputs": [
    {
     "ename": "Error",
     "evalue": "(-10709, \"Connection failed (RTE:[89006] System call 'connect' failed, rc=10060:A connection attempt failed because the connected party did not properly respond after a period of time, or established connection failed because connected host has failed to respond {192.168.124.128:39015} (192.168.124.128:39015))\")",
     "output_type": "error",
     "traceback": [
      "\u001b[1;31m---------------------------------------------------------------------------\u001b[0m",
      "\u001b[1;31mError\u001b[0m                                     Traceback (most recent call last)",
      "Cell \u001b[1;32mIn[5], line 2\u001b[0m\n\u001b[0;32m      1\u001b[0m \u001b[38;5;66;03m# Step 2.1: Establish a connection to SAP HANA\u001b[39;00m\n\u001b[1;32m----> 2\u001b[0m connection \u001b[38;5;241m=\u001b[39m dbapi\u001b[38;5;241m.\u001b[39mconnect(\n\u001b[0;32m      3\u001b[0m     address\u001b[38;5;241m=\u001b[39m\u001b[38;5;124m\"\u001b[39m\u001b[38;5;124m192.168.124.128\u001b[39m\u001b[38;5;124m\"\u001b[39m,  \u001b[38;5;66;03m# Use the VM's IP address\u001b[39;00m\n\u001b[0;32m      4\u001b[0m     port\u001b[38;5;241m=\u001b[39m\u001b[38;5;241m39015\u001b[39m,                \u001b[38;5;66;03m# Default SAP HANA port\u001b[39;00m\n\u001b[0;32m      5\u001b[0m     user\u001b[38;5;241m=\u001b[39m\u001b[38;5;124m\"\u001b[39m\u001b[38;5;124mSYSTEM\u001b[39m\u001b[38;5;124m\"\u001b[39m,             \u001b[38;5;66;03m# Your SAP HANA username\u001b[39;00m\n\u001b[0;32m      6\u001b[0m     password\u001b[38;5;241m=\u001b[39m\u001b[38;5;124m\"\u001b[39m\u001b[38;5;124mGaara@123\u001b[39m\u001b[38;5;124m\"\u001b[39m \u001b[38;5;66;03m# Your SAP HANA password\u001b[39;00m\n\u001b[0;32m      7\u001b[0m )\n",
      "\u001b[1;31mError\u001b[0m: (-10709, \"Connection failed (RTE:[89006] System call 'connect' failed, rc=10060:A connection attempt failed because the connected party did not properly respond after a period of time, or established connection failed because connected host has failed to respond {192.168.124.128:39015} (192.168.124.128:39015))\")"
     ]
    }
   ],
   "source": [
    "# Step 2.1: Establish a connection to SAP HANA\n",
    "connection = dbapi.connect(\n",
    "    address=\"192.168.124.128\",  # Use the VM's IP address\n",
    "    port=39015,                # Default SAP HANA port\n",
    "    user=\"SYSTEM\",             # Your SAP HANA username\n",
    "    password=\"Gaara@123\" # Your SAP HANA password\n",
    ")"
   ]
  },
  {
   "cell_type": "code",
   "execution_count": 6,
   "id": "35538395",
   "metadata": {},
   "outputs": [
    {
     "ename": "Error",
     "evalue": "(-10709, \"Connection failed (RTE:[89006] System call 'connect' failed, rc=10060:A connection attempt failed because the connected party did not properly respond after a period of time, or established connection failed because connected host has failed to respond {192.168.0.156:39015} (192.168.0.156:39015))\")",
     "output_type": "error",
     "traceback": [
      "\u001b[1;31m---------------------------------------------------------------------------\u001b[0m",
      "\u001b[1;31mError\u001b[0m                                     Traceback (most recent call last)",
      "Cell \u001b[1;32mIn[6], line 2\u001b[0m\n\u001b[0;32m      1\u001b[0m \u001b[38;5;66;03m# Step 2.1: Establish a connection to SAP HANA\u001b[39;00m\n\u001b[1;32m----> 2\u001b[0m connection \u001b[38;5;241m=\u001b[39m dbapi\u001b[38;5;241m.\u001b[39mconnect(\n\u001b[0;32m      3\u001b[0m     address\u001b[38;5;241m=\u001b[39m\u001b[38;5;124m\"\u001b[39m\u001b[38;5;124m192.168.0.156\u001b[39m\u001b[38;5;124m\"\u001b[39m,  \u001b[38;5;66;03m# Use the VM's IP address\u001b[39;00m\n\u001b[0;32m      4\u001b[0m     port\u001b[38;5;241m=\u001b[39m\u001b[38;5;241m39015\u001b[39m,                \u001b[38;5;66;03m# Default SAP HANA port\u001b[39;00m\n\u001b[0;32m      5\u001b[0m     user\u001b[38;5;241m=\u001b[39m\u001b[38;5;124m\"\u001b[39m\u001b[38;5;124mSYSTEM\u001b[39m\u001b[38;5;124m\"\u001b[39m,             \u001b[38;5;66;03m# Your SAP HANA username\u001b[39;00m\n\u001b[0;32m      6\u001b[0m     password\u001b[38;5;241m=\u001b[39m\u001b[38;5;124m\"\u001b[39m\u001b[38;5;124mGaara@123\u001b[39m\u001b[38;5;124m\"\u001b[39m \u001b[38;5;66;03m# Your SAP HANA password\u001b[39;00m\n\u001b[0;32m      7\u001b[0m )\n",
      "\u001b[1;31mError\u001b[0m: (-10709, \"Connection failed (RTE:[89006] System call 'connect' failed, rc=10060:A connection attempt failed because the connected party did not properly respond after a period of time, or established connection failed because connected host has failed to respond {192.168.0.156:39015} (192.168.0.156:39015))\")"
     ]
    }
   ],
   "source": [
    "# Step 2.1: Establish a connection to SAP HANA\n",
    "connection = dbapi.connect(\n",
    "    address=\"192.168.0.156\",  # Use the VM's IP address\n",
    "    port=39015,                # Default SAP HANA port\n",
    "    user=\"SYSTEM\",             # Your SAP HANA username\n",
    "    password=\"Gaara@123\" # Your SAP HANA password\n",
    ")"
   ]
  },
  {
   "cell_type": "code",
   "execution_count": 8,
   "id": "a139d8bb",
   "metadata": {},
   "outputs": [
    {
     "name": "stdout",
     "output_type": "stream",
     "text": [
      "Connected to SAP HANA!\n"
     ]
    }
   ],
   "source": [
    "# Step 2.1: Establish a connection to SAP HANA\n",
    "connection = dbapi.connect(\n",
    "    address=\"192.168.0.156\",  # Use the VM's IP address\n",
    "    port=39015,                # Default SAP HANA port\n",
    "    user=\"SYSTEM\",             # Your SAP HANA username\n",
    "    password=\"Gaara@123\" # Your SAP HANA password\n",
    ")\n",
    "\n",
    "# Test the connection\n",
    "print(\"Connected to SAP HANA!\")"
   ]
  },
  {
   "cell_type": "code",
   "execution_count": 9,
   "id": "25f86fe7",
   "metadata": {},
   "outputs": [],
   "source": [
    "# Step 2.2: Create a cursor to execute queries\n",
    "cursor = connection.cursor()"
   ]
  },
  {
   "cell_type": "code",
   "execution_count": 10,
   "id": "a46110b3",
   "metadata": {},
   "outputs": [
    {
     "data": {
      "text/plain": [
       "True"
      ]
     },
     "execution_count": 10,
     "metadata": {},
     "output_type": "execute_result"
    }
   ],
   "source": [
    "# Step 2.3: Define and execute the query\n",
    "query = \"SELECT * FROM my_schema.my_table;\"\n",
    "cursor.execute(query)"
   ]
  },
  {
   "cell_type": "code",
   "execution_count": 11,
   "id": "7744bd39",
   "metadata": {},
   "outputs": [],
   "source": [
    "# Step 2.4: Fetch all rows and column names\n",
    "data = cursor.fetchall()\n",
    "columns = [col[0] for col in cursor.description]"
   ]
  },
  {
   "cell_type": "code",
   "execution_count": 12,
   "id": "6cf78666",
   "metadata": {},
   "outputs": [],
   "source": [
    "# Step 2.5: Create a Pandas DataFrame\n",
    "df = pd.DataFrame(data, columns=columns)"
   ]
  },
  {
   "cell_type": "code",
   "execution_count": 13,
   "id": "344b3c8e",
   "metadata": {},
   "outputs": [
    {
     "data": {
      "text/html": [
       "<div>\n",
       "<style scoped>\n",
       "    .dataframe tbody tr th:only-of-type {\n",
       "        vertical-align: middle;\n",
       "    }\n",
       "\n",
       "    .dataframe tbody tr th {\n",
       "        vertical-align: top;\n",
       "    }\n",
       "\n",
       "    .dataframe thead th {\n",
       "        text-align: right;\n",
       "    }\n",
       "</style>\n",
       "<table border=\"1\" class=\"dataframe\">\n",
       "  <thead>\n",
       "    <tr style=\"text-align: right;\">\n",
       "      <th></th>\n",
       "      <th>ID</th>\n",
       "      <th>NAME</th>\n",
       "      <th>AGE</th>\n",
       "      <th>ADDRESS</th>\n",
       "    </tr>\n",
       "  </thead>\n",
       "  <tbody>\n",
       "    <tr>\n",
       "      <th>0</th>\n",
       "      <td>1</td>\n",
       "      <td>John Doe</td>\n",
       "      <td>28</td>\n",
       "      <td>123 elm street</td>\n",
       "    </tr>\n",
       "    <tr>\n",
       "      <th>1</th>\n",
       "      <td>2</td>\n",
       "      <td>Larry Smith</td>\n",
       "      <td>35</td>\n",
       "      <td>456 avenue block</td>\n",
       "    </tr>\n",
       "    <tr>\n",
       "      <th>2</th>\n",
       "      <td>3</td>\n",
       "      <td>Jane Smith</td>\n",
       "      <td>26</td>\n",
       "      <td>789 field tower</td>\n",
       "    </tr>\n",
       "    <tr>\n",
       "      <th>3</th>\n",
       "      <td>4</td>\n",
       "      <td>Chris Bale</td>\n",
       "      <td>32</td>\n",
       "      <td>901 City street</td>\n",
       "    </tr>\n",
       "    <tr>\n",
       "      <th>4</th>\n",
       "      <td>5</td>\n",
       "      <td>Amanda Geller</td>\n",
       "      <td>21</td>\n",
       "      <td>402 elixir road</td>\n",
       "    </tr>\n",
       "  </tbody>\n",
       "</table>\n",
       "</div>"
      ],
      "text/plain": [
       "   ID           NAME  AGE           ADDRESS\n",
       "0   1       John Doe   28    123 elm street\n",
       "1   2    Larry Smith   35  456 avenue block\n",
       "2   3     Jane Smith   26   789 field tower\n",
       "3   4     Chris Bale   32   901 City street\n",
       "4   5  Amanda Geller   21   402 elixir road"
      ]
     },
     "execution_count": 13,
     "metadata": {},
     "output_type": "execute_result"
    }
   ],
   "source": [
    "# Step 2.6: Display the DataFrame\n",
    "df"
   ]
  },
  {
   "cell_type": "code",
   "execution_count": 14,
   "id": "3fee34f8",
   "metadata": {},
   "outputs": [],
   "source": [
    "# Step 2.7: Close the cursor and connection\n",
    "cursor.close()\n",
    "connection.close()"
   ]
  }
 ],
 "metadata": {
  "kernelspec": {
   "display_name": "Python 3 (ipykernel)",
   "language": "python",
   "name": "python3"
  },
  "language_info": {
   "codemirror_mode": {
    "name": "ipython",
    "version": 3
   },
   "file_extension": ".py",
   "mimetype": "text/x-python",
   "name": "python",
   "nbconvert_exporter": "python",
   "pygments_lexer": "ipython3",
   "version": "3.11.5"
  }
 },
 "nbformat": 4,
 "nbformat_minor": 5
}
