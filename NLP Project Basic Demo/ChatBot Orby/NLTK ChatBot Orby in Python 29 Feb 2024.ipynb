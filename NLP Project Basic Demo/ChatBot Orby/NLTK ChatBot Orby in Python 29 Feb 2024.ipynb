{
 "cells": [
  {
   "cell_type": "code",
   "execution_count": 1,
   "id": "5e85e91c",
   "metadata": {},
   "outputs": [],
   "source": [
    "import numpy as np\n",
    "import pandas as pd\n",
    "import nltk\n",
    "import string\n",
    "import random"
   ]
  },
  {
   "cell_type": "code",
   "execution_count": 2,
   "id": "0739bf4a",
   "metadata": {},
   "outputs": [
    {
     "data": {
      "text/html": [
       "<div>\n",
       "<style scoped>\n",
       "    .dataframe tbody tr th:only-of-type {\n",
       "        vertical-align: middle;\n",
       "    }\n",
       "\n",
       "    .dataframe tbody tr th {\n",
       "        vertical-align: top;\n",
       "    }\n",
       "\n",
       "    .dataframe thead th {\n",
       "        text-align: right;\n",
       "    }\n",
       "</style>\n",
       "<table border=\"1\" class=\"dataframe\">\n",
       "  <thead>\n",
       "    <tr style=\"text-align: right;\">\n",
       "      <th></th>\n",
       "      <th>0</th>\n",
       "    </tr>\n",
       "  </thead>\n",
       "  <tbody>\n",
       "    <tr>\n",
       "      <th>0</th>\n",
       "      <td>Conversation 1:</td>\n",
       "    </tr>\n",
       "    <tr>\n",
       "      <th>1</th>\n",
       "      <td>User: Help! There's a fire in the building!</td>\n",
       "    </tr>\n",
       "    <tr>\n",
       "      <th>2</th>\n",
       "      <td>Orby: Stay calm. Please evacuate the building ...</td>\n",
       "    </tr>\n",
       "    <tr>\n",
       "      <th>3</th>\n",
       "      <td>Conversation 2:</td>\n",
       "    </tr>\n",
       "    <tr>\n",
       "      <th>4</th>\n",
       "      <td>User: There's been a chemical spill in the lab!</td>\n",
       "    </tr>\n",
       "    <tr>\n",
       "      <th>...</th>\n",
       "      <td>...</td>\n",
       "    </tr>\n",
       "    <tr>\n",
       "      <th>145</th>\n",
       "      <td>User: There's a suspicious package in the mail...</td>\n",
       "    </tr>\n",
       "    <tr>\n",
       "      <th>146</th>\n",
       "      <td>Orby: Alert! Clear the area and notify buildin...</td>\n",
       "    </tr>\n",
       "    <tr>\n",
       "      <th>147</th>\n",
       "      <td>Conversation 50:</td>\n",
       "    </tr>\n",
       "    <tr>\n",
       "      <th>148</th>\n",
       "      <td>User: There's a mold infestation in the office...</td>\n",
       "    </tr>\n",
       "    <tr>\n",
       "      <th>149</th>\n",
       "      <td>Orby: Caution! Close off the affected area and...</td>\n",
       "    </tr>\n",
       "  </tbody>\n",
       "</table>\n",
       "<p>150 rows × 1 columns</p>\n",
       "</div>"
      ],
      "text/plain": [
       "                                                     0\n",
       "0                                      Conversation 1:\n",
       "1          User: Help! There's a fire in the building!\n",
       "2    Orby: Stay calm. Please evacuate the building ...\n",
       "3                                      Conversation 2:\n",
       "4      User: There's been a chemical spill in the lab!\n",
       "..                                                 ...\n",
       "145  User: There's a suspicious package in the mail...\n",
       "146  Orby: Alert! Clear the area and notify buildin...\n",
       "147                                   Conversation 50:\n",
       "148  User: There's a mold infestation in the office...\n",
       "149  Orby: Caution! Close off the affected area and...\n",
       "\n",
       "[150 rows x 1 columns]"
      ]
     },
     "execution_count": 2,
     "metadata": {},
     "output_type": "execute_result"
    }
   ],
   "source": [
    "raw_data = pd.read_fwf(\"Data.txt\", header=None)\n",
    "raw_data"
   ]
  },
  {
   "cell_type": "code",
   "execution_count": 3,
   "id": "fc05824e",
   "metadata": {},
   "outputs": [
    {
     "data": {
      "text/plain": [
       "pandas.core.frame.DataFrame"
      ]
     },
     "execution_count": 3,
     "metadata": {},
     "output_type": "execute_result"
    }
   ],
   "source": [
    "type(raw_data)"
   ]
  },
  {
   "cell_type": "code",
   "execution_count": 4,
   "id": "88f4ffab",
   "metadata": {},
   "outputs": [
    {
     "data": {
      "text/plain": [
       "0                                        conversation 1:\n",
       "1            user: help! there's a fire in the building!\n",
       "2      orby: stay calm. please evacuate the building ...\n",
       "3                                        conversation 2:\n",
       "4        user: there's been a chemical spill in the lab!\n",
       "                             ...                        \n",
       "145    user: there's a suspicious package in the mail...\n",
       "146    orby: alert! clear the area and notify buildin...\n",
       "147                                     conversation 50:\n",
       "148    user: there's a mold infestation in the office...\n",
       "149    orby: caution! close off the affected area and...\n",
       "Name: 0, Length: 150, dtype: object"
      ]
     },
     "execution_count": 4,
     "metadata": {},
     "output_type": "execute_result"
    }
   ],
   "source": [
    "raw_data = raw_data[0].str.lower() # converting the entire text into lower case format\n",
    "raw_data"
   ]
  },
  {
   "cell_type": "code",
   "execution_count": 5,
   "id": "acdb2802",
   "metadata": {},
   "outputs": [
    {
     "data": {
      "text/plain": [
       "pandas.core.series.Series"
      ]
     },
     "execution_count": 5,
     "metadata": {},
     "output_type": "execute_result"
    }
   ],
   "source": [
    "type(raw_data)"
   ]
  },
  {
   "cell_type": "code",
   "execution_count": 6,
   "id": "30eab2d8",
   "metadata": {},
   "outputs": [
    {
     "name": "stderr",
     "output_type": "stream",
     "text": [
      "[nltk_data] Downloading package punkt to C:\\Users\\adity/nltk_data...\n",
      "[nltk_data]   Package punkt is already up-to-date!\n",
      "[nltk_data] Downloading package wordnet to C:\\Users\\adity/nltk_data...\n",
      "[nltk_data]   Package wordnet is already up-to-date!\n",
      "[nltk_data] Downloading package omw-1.4 to C:\\Users\\adity/nltk_data...\n",
      "[nltk_data]   Package omw-1.4 is already up-to-date!\n"
     ]
    },
    {
     "data": {
      "text/plain": [
       "True"
      ]
     },
     "execution_count": 6,
     "metadata": {},
     "output_type": "execute_result"
    }
   ],
   "source": [
    "nltk.download('punkt') # using the Punkt Tokenizer\n",
    "nltk.download('wordnet') # using the Wordnet dictionary\n",
    "nltk.download('omw-1.4') # using the Open Multilingual Wordnet package"
   ]
  },
  {
   "cell_type": "code",
   "execution_count": 7,
   "id": "c94cae58",
   "metadata": {},
   "outputs": [
    {
     "data": {
      "text/plain": [
       "\"0                                        conversation 1:\\n1            user: help! there's a fire in the building!\\n2      orby: stay calm. please evacuate the building ...\\n3                                        conversation 2:\\n4        user: there's been a chemical spill in the lab!\\n5      orby: alert! stay away from the affected area....\\n6                                        conversation 3:\\n7                 user: there's a flood in the basement!\\n8      orby: urgent! turn off all electrical applianc...\\n9                                        conversation 4:\\n10                     user: i'm trapped in an elevator!\\n11     orby: remain calm. press the emergency button ...\\n12                                       conversation 5:\\n13              user: there's a gas leak in the kitchen!\\n14     orby: danger! open all windows and doors to ve...\\n15                                       conversation 6:\\n16       user: help! there's a severe storm approaching!\\n17     orby: take shelter in a sturdy building or bas...\\n18                                       conversation 7:\\n19     user: i accidentally spilled a hazardous chemi...\\n20     orby: caution! secure the area and contain the...\\n21                                       conversation 8:\\n22                       user: the power lines are down!\\n23     orby: danger! stay away from fallen power line...\\n24                                       conversation 9:\\n25                  user: someone fainted in the office!\\n26     orby: call emergency services immediately. whi...\\n27                                      conversation 10:\\n28      user: there's a suspicious package in the lobby!\\n29     orby: alert! clear the area and notify buildin...\\n30                                      conversation 11:\\n31     user: there's a strong smell of gas in the caf...\\n32     orby: danger! evacuate the cafeteria immediate...\\n33                                      conversation 12:\\n34                   user: a pipe burst in the restroom!\\n35     orby: alert! turn off the main water supply va...\\n36                                      conversation 13:\\n37     user: the ceiling is leaking in the conference...\\n38     orby: urgent! move furniture and electronics a...\\n39                                      conversation 14:\\n40     user: there's a medical emergency in the parki...\\n41     orby: call emergency services immediately. pro...\\n42                                      conversation 15:\\n43     user: i accidentally spilled oil on the kitche...\\n44     orby: caution! use absorbent materials to soak...\\n45                                      conversation 16:\\n46      user: there's a swarm of bees near the entrance!\\n47     orby: alert! close windows and doors to preven...\\n48                                      conversation 17:\\n49     user: there's a suspicious person loitering ou...\\n50     orby: alert! notify building security immediat...\\n51                                      conversation 18:\\n52           user: the elevator is stuck between floors!\\n53     orby: remain calm. press the emergency button ...\\n54                                      conversation 19:\\n55               user: the fire alarm is malfunctioning!\\n56     orby: urgent! evacuate the building using the ...\\n57                                      conversation 20:\\n58     user: there's a swarm of mosquitoes in the bre...\\n59     orby: caution! use insect repellent and mosqui...\\n60                                      conversation 21:\\n61                 user: the server room is overheating!\\n62     orby: alert! power down servers and equipment ...\\n63                                      conversation 22:\\n64      user: there's a car accident outside the office!\\n65     orby: call emergency services immediately. pro...\\n66                                      conversation 23:\\n67            user: the stairwell lights are flickering!\\n68     orby: caution! use handrails and proceed with ...\\n69                                      conversation 24:\\n70     user: a tree fell on the building during the s...\\n71     orby: danger! evacuate the affected area and s...\\n72                                      conversation 25:\\n73       user: the printer caught fire in the copy room!\\n74     orby: urgent! activate the nearest fire alarm ...\\n75                                      conversation 26:\\n76        user: there's a water leak in the server room!\\n77     orby: alert! turn off power to the affected ar...\\n78                                      conversation 27:\\n79        user: the emergency exit is blocked by debris!\\n80     orby: danger! find an alternate exit route and...\\n81                                      conversation 28:\\n82     user: there's a swarm of hornets in the break ...\\n83     orby: caution! close windows and doors to prev...\\n84                                      conversation 29:\\n85     user: the building alarm system is malfunction...\\n86     orby: urgent! evacuate the building using the ...\\n87                                      conversation 30:\\n88     user: the water fountain is shooting water eve...\\n89     orby: alert! turn off the water supply valve i...\\n90                                      conversation 31:\\n91     user: there's a chemical spill in the laboratory!\\n92     orby: danger! evacuate the lab immediately and...\\n93                                      conversation 32:\\n94          user: the roof is leaking in the break room!\\n95     orby: alert! place buckets to catch the water ...\\n96                                      conversation 33:\\n97     user: a coworker is experiencing a severe alle...\\n98     orby: call emergency services immediately. if ...\\n99                                      conversation 34:\\n100    user: the security alarm went off in the wareh...\\n101    orby: alert! verify the cause of the alarm and...\\n102                                     conversation 35:\\n103          user: there's a burst pipe in the restroom!\\n104    orby: urgent! turn off the water supply valve ...\\n105                                     conversation 36:\\n106    user: the power outage is affecting the entire...\\n107    orby: alert! use flashlights and emergency lig...\\n108                                     conversation 37:\\n109    user: there's a swarm of locusts near the entr...\\n110    orby: caution! close windows and doors to prev...\\n111                                     conversation 38:\\n112          user: the ceiling collapsed in the hallway!\\n113    orby: danger! evacuate the area immediately an...\\n114                                     conversation 39:\\n115    user: the heating system is malfunctioning in ...\\n116    orby: alert! wear warm clothing and use portab...\\n117                                     conversation 40:\\n118             user: there's a snake in the break room!\\n119    orby: caution! close the door to contain the s...\\n120                                     conversation 41:\\n121          user: there's a gas leak near the entrance!\\n122    orby: danger! evacuate the area immediately an...\\n123                                     conversation 42:\\n124             user: the emergency exit door is jammed!\\n125    orby: alert! remain calm and try using another...\\n126                                     conversation 43:\\n127     user: there's a power outage in the data center!\\n128    orby: urgent! ensure backup power sources are ...\\n129                                     conversation 44:\\n130    user: the air conditioning system is emitting ...\\n131    orby: caution! turn off the hvac system and ev...\\n132                                     conversation 45:\\n133    user: the sprinkler system activated in the se...\\n134    orby: danger! evacuate the server room immedia...\\n135                                     conversation 46:\\n136     user: there's a swarm of wasps in the warehouse!\\n137    orby: alert! close doors to contain the wasps ...\\n138                                     conversation 47:\\n139    user: the elevator is malfunctioning and stuck...\\n140    orby: remain calm. press the emergency button ...\\n141                                     conversation 48:\\n142    user: the fire extinguisher is missing from it...\\n143    orby: urgent! report the missing fire extingui...\\n144                                     conversation 49:\\n145    user: there's a suspicious package in the mail...\\n146    orby: alert! clear the area and notify buildin...\\n147                                     conversation 50:\\n148    user: there's a mold infestation in the office...\\n149    orby: caution! close off the affected area and...\""
      ]
     },
     "execution_count": 7,
     "metadata": {},
     "output_type": "execute_result"
    }
   ],
   "source": [
    "raw_data = raw_data.to_string() # converting series to string object\n",
    "raw_data"
   ]
  },
  {
   "cell_type": "code",
   "execution_count": 8,
   "id": "384fa26d",
   "metadata": {},
   "outputs": [],
   "source": [
    "sentence_tokens = nltk.sent_tokenize(raw_data)\n",
    "word_tokens = nltk.word_tokenize(raw_data)"
   ]
  },
  {
   "cell_type": "code",
   "execution_count": 9,
   "id": "df6cd1f7",
   "metadata": {},
   "outputs": [
    {
     "data": {
      "text/plain": [
       "['0                                        conversation 1:\\n1            user: help!',\n",
       " \"there's a fire in the building!\",\n",
       " '2      orby: stay calm.',\n",
       " \"please evacuate the building ...\\n3                                        conversation 2:\\n4        user: there's been a chemical spill in the lab!\",\n",
       " '5      orby: alert!']"
      ]
     },
     "execution_count": 9,
     "metadata": {},
     "output_type": "execute_result"
    }
   ],
   "source": [
    "sentence_tokens[:5]"
   ]
  },
  {
   "cell_type": "code",
   "execution_count": 10,
   "id": "ba22aba9",
   "metadata": {},
   "outputs": [
    {
     "data": {
      "text/plain": [
       "['0', 'conversation', '1', ':', '1']"
      ]
     },
     "execution_count": 10,
     "metadata": {},
     "output_type": "execute_result"
    }
   ],
   "source": [
    "word_tokens[:5]"
   ]
  },
  {
   "cell_type": "markdown",
   "id": "9dd26951",
   "metadata": {},
   "source": [
    "### Performing Text-Preprocessing Steps:"
   ]
  },
  {
   "cell_type": "code",
   "execution_count": 11,
   "id": "19cf6b35",
   "metadata": {},
   "outputs": [],
   "source": [
    "lemmer = nltk.stem.WordNetLemmatizer()\n",
    "\n",
    "def LemTokens(tokens):\n",
    "    return [lemmer.lemmatize(token) for token in tokens]\n",
    "remove_punc_dict = dict((ord(punct), None) for punct in string.punctuation)\n",
    "\n",
    "def LemNormalize(text):\n",
    "    return LemTokens(nltk.word_tokenize(text.lower().translate(remove_punc_dict)))"
   ]
  },
  {
   "cell_type": "markdown",
   "id": "a802db20",
   "metadata": {},
   "source": [
    "### Define Greeting Functions:"
   ]
  },
  {
   "cell_type": "code",
   "execution_count": 12,
   "id": "443426f5",
   "metadata": {},
   "outputs": [],
   "source": [
    "greet_inputs = ('hello', 'hey', 'hi', 'wassup', 'you there?', 'how are you?')\n",
    "greet_responses = ('Hi', 'Hello', 'Hey', 'Hey there!', 'There there!!')\n",
    "\n",
    "def greet(sentence):\n",
    "    for word in sentence.split():\n",
    "        if word.lower() in greet_inputs:\n",
    "            return random.choice(greet_responses)"
   ]
  },
  {
   "cell_type": "markdown",
   "id": "462365c3",
   "metadata": {},
   "source": [
    "### Response Generation by the Bot:"
   ]
  },
  {
   "cell_type": "code",
   "execution_count": 13,
   "id": "3ebe523f",
   "metadata": {},
   "outputs": [],
   "source": [
    "from sklearn.feature_extraction.text import TfidfVectorizer\n",
    "from sklearn.metrics.pairwise import cosine_similarity"
   ]
  },
  {
   "cell_type": "code",
   "execution_count": 14,
   "id": "399990f4",
   "metadata": {},
   "outputs": [],
   "source": [
    "def response(user_response):\n",
    "    orby_response = ''\n",
    "    TfidfVec = TfidfVectorizer(tokenizer=LemNormalize, stop_words='english')\n",
    "    tfidf = TfidfVec.fit_transform(sentence_tokens)\n",
    "    vals = cosine_similarity(tfidf[-1], tfidf)\n",
    "    idx = vals.argsort()[0][-2]\n",
    "    flat = vals.flatten()\n",
    "    flat.sort()\n",
    "    req_tfidf = flat[-2]\n",
    "    if (req_tfidf == 0):\n",
    "        orby_response = orby_response + \"I am sorry. I am unable to understand you!\"\n",
    "        return orby_response\n",
    "    else:\n",
    "        orby_response = orby_response + sentence_tokens[idx]\n",
    "        return orby_response"
   ]
  },
  {
   "cell_type": "markdown",
   "id": "c73ccc98",
   "metadata": {},
   "source": [
    "### Defining the ChatFlow:"
   ]
  },
  {
   "cell_type": "code",
   "execution_count": 15,
   "id": "1c776053",
   "metadata": {
    "scrolled": false
   },
   "outputs": [
    {
     "name": "stdout",
     "output_type": "stream",
     "text": [
      "Hello! I am Orby-The Retrieval Learning Bot. Start typing your text after getting to talk to me. For ending the conversation type bye!\n",
      "hi\n",
      "Orby: Hey\n",
      "there is a chemical spill\n",
      "Orby: "
     ]
    },
    {
     "name": "stderr",
     "output_type": "stream",
     "text": [
      "C:\\Users\\adity\\anaconda3\\Lib\\site-packages\\sklearn\\feature_extraction\\text.py:525: UserWarning: The parameter 'token_pattern' will not be used since 'tokenizer' is not None'\n",
      "  warnings.warn(\n",
      "C:\\Users\\adity\\anaconda3\\Lib\\site-packages\\sklearn\\feature_extraction\\text.py:408: UserWarning: Your stop_words may be inconsistent with your preprocessing. Tokenizing the stop words generated tokens ['ha', 'le', 'u', 'wa'] not in stop_words.\n",
      "  warnings.warn(\n"
     ]
    },
    {
     "name": "stdout",
     "output_type": "stream",
     "text": [
      "please evacuate the building ...\n",
      "3                                        conversation 2:\n",
      "4        user: there's been a chemical spill in the lab!\n",
      "okay\n",
      "Orby: I am sorry. I am unable to understand you!\n",
      "thanks\n",
      "Orby: You are welcome!\n"
     ]
    }
   ],
   "source": [
    "flag = True\n",
    "print('Hello! I am Orby-The Retrieval Learning Bot. Start typing your text after getting to talk to me. For ending the conversation type bye!')\n",
    "while(flag == True):\n",
    "    user_response = input()\n",
    "    user_response = user_response.lower()\n",
    "    if(user_response != 'bye'):\n",
    "        if(user_response == 'thank you' or user_response == 'thanks'):\n",
    "            flag = False\n",
    "            print('Orby: You are welcome!')\n",
    "        else:\n",
    "            if(greet(user_response) != None):\n",
    "                print('Orby: '+ greet(user_response))\n",
    "            else:\n",
    "                sentence_tokens.append(user_response)\n",
    "                word_tokens = word_tokens + nltk.word_tokenize(user_response)\n",
    "                final_words = list(set(word_tokens))\n",
    "                print(\"Orby: \", end='')\n",
    "                print(response(user_response))\n",
    "                sentence_tokens.remove(user_response)\n",
    "    else:\n",
    "        flag = False\n",
    "        print(\"Orby: Goodbye!\")"
   ]
  }
 ],
 "metadata": {
  "kernelspec": {
   "display_name": "Python 3 (ipykernel)",
   "language": "python",
   "name": "python3"
  },
  "language_info": {
   "codemirror_mode": {
    "name": "ipython",
    "version": 3
   },
   "file_extension": ".py",
   "mimetype": "text/x-python",
   "name": "python",
   "nbconvert_exporter": "python",
   "pygments_lexer": "ipython3",
   "version": "3.11.5"
  }
 },
 "nbformat": 4,
 "nbformat_minor": 5
}
