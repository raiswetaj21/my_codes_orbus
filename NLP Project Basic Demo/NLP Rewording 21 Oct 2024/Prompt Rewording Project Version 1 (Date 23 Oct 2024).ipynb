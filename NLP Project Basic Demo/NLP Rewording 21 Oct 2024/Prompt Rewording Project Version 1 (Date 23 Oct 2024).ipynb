{
 "cells": [
  {
   "cell_type": "code",
   "execution_count": 2,
   "id": "bd7a7c86",
   "metadata": {},
   "outputs": [
    {
     "name": "stdout",
     "output_type": "stream",
     "text": [
      "Collecting PyPDF2\n",
      "  Obtaining dependency information for PyPDF2 from https://files.pythonhosted.org/packages/8e/5e/c86a5643653825d3c913719e788e41386bee415c2b87b4f955432f2de6b2/pypdf2-3.0.1-py3-none-any.whl.metadata\n",
      "  Downloading pypdf2-3.0.1-py3-none-any.whl.metadata (6.8 kB)\n",
      "Downloading pypdf2-3.0.1-py3-none-any.whl (232 kB)\n",
      "   ---------------------------------------- 0.0/232.6 kB ? eta -:--:--\n",
      "   -------------------------- ------------- 153.6/232.6 kB 4.6 MB/s eta 0:00:01\n",
      "   ---------------------------------------- 232.6/232.6 kB 3.6 MB/s eta 0:00:00\n",
      "Installing collected packages: PyPDF2\n",
      "Successfully installed PyPDF2-3.0.1\n"
     ]
    }
   ],
   "source": [
    "!pip install PyPDF2"
   ]
  },
  {
   "cell_type": "code",
   "execution_count": 1,
   "id": "2325f154",
   "metadata": {},
   "outputs": [
    {
     "name": "stdout",
     "output_type": "stream",
     "text": [
      "Requirement already satisfied: transformers in c:\\users\\adity\\anaconda3\\lib\\site-packages (4.45.2)\n",
      "Requirement already satisfied: filelock in c:\\users\\adity\\anaconda3\\lib\\site-packages (from transformers) (3.9.0)\n",
      "Requirement already satisfied: huggingface-hub<1.0,>=0.23.2 in c:\\users\\adity\\anaconda3\\lib\\site-packages (from transformers) (0.23.4)\n",
      "Requirement already satisfied: numpy>=1.17 in c:\\users\\adity\\anaconda3\\lib\\site-packages (from transformers) (1.26.4)\n",
      "Requirement already satisfied: packaging>=20.0 in c:\\users\\adity\\anaconda3\\lib\\site-packages (from transformers) (23.1)\n",
      "Requirement already satisfied: pyyaml>=5.1 in c:\\users\\adity\\anaconda3\\lib\\site-packages (from transformers) (6.0.1)\n",
      "Requirement already satisfied: regex!=2019.12.17 in c:\\users\\adity\\anaconda3\\lib\\site-packages (from transformers) (2023.10.3)\n",
      "Requirement already satisfied: requests in c:\\users\\adity\\anaconda3\\lib\\site-packages (from transformers) (2.32.3)\n",
      "Requirement already satisfied: safetensors>=0.4.1 in c:\\users\\adity\\anaconda3\\lib\\site-packages (from transformers) (0.4.5)\n",
      "Requirement already satisfied: tokenizers<0.21,>=0.20 in c:\\users\\adity\\anaconda3\\lib\\site-packages (from transformers) (0.20.1)\n",
      "Requirement already satisfied: tqdm>=4.27 in c:\\users\\adity\\anaconda3\\lib\\site-packages (from transformers) (4.66.4)\n",
      "Requirement already satisfied: fsspec>=2023.5.0 in c:\\users\\adity\\anaconda3\\lib\\site-packages (from huggingface-hub<1.0,>=0.23.2->transformers) (2024.5.0)\n",
      "Requirement already satisfied: typing-extensions>=3.7.4.3 in c:\\users\\adity\\anaconda3\\lib\\site-packages (from huggingface-hub<1.0,>=0.23.2->transformers) (4.10.0)\n",
      "Requirement already satisfied: colorama in c:\\users\\adity\\anaconda3\\lib\\site-packages (from tqdm>=4.27->transformers) (0.4.6)\n",
      "Requirement already satisfied: charset-normalizer<4,>=2 in c:\\users\\adity\\anaconda3\\lib\\site-packages (from requests->transformers) (2.0.4)\n",
      "Requirement already satisfied: idna<4,>=2.5 in c:\\users\\adity\\anaconda3\\lib\\site-packages (from requests->transformers) (3.4)\n",
      "Requirement already satisfied: urllib3<3,>=1.21.1 in c:\\users\\adity\\anaconda3\\lib\\site-packages (from requests->transformers) (1.26.18)\n",
      "Requirement already satisfied: certifi>=2017.4.17 in c:\\users\\adity\\anaconda3\\lib\\site-packages (from requests->transformers) (2024.6.2)\n"
     ]
    }
   ],
   "source": [
    "!pip install transformers"
   ]
  },
  {
   "cell_type": "code",
   "execution_count": 2,
   "id": "0db15811",
   "metadata": {},
   "outputs": [],
   "source": [
    "from transformers import T5Tokenizer, T5ForConditionalGeneration\n",
    "import warnings\n",
    "warnings.filterwarnings(\"ignore\") # Ignoring the warnings in the notebook"
   ]
  },
  {
   "cell_type": "code",
   "execution_count": 3,
   "id": "2a165485",
   "metadata": {},
   "outputs": [
    {
     "data": {
      "application/vnd.jupyter.widget-view+json": {
       "model_id": "cae22e5702fd402092f5aa976122d23a",
       "version_major": 2,
       "version_minor": 0
      },
      "text/plain": [
       "spiece.model:   0%|          | 0.00/792k [00:00<?, ?B/s]"
      ]
     },
     "metadata": {},
     "output_type": "display_data"
    },
    {
     "data": {
      "application/vnd.jupyter.widget-view+json": {
       "model_id": "39d23e52b17a4653bd40c6411e7f60fc",
       "version_major": 2,
       "version_minor": 0
      },
      "text/plain": [
       "tokenizer.json:   0%|          | 0.00/1.39M [00:00<?, ?B/s]"
      ]
     },
     "metadata": {},
     "output_type": "display_data"
    },
    {
     "data": {
      "application/vnd.jupyter.widget-view+json": {
       "model_id": "9c7a196448834830842f715a1a4faba5",
       "version_major": 2,
       "version_minor": 0
      },
      "text/plain": [
       "config.json:   0%|          | 0.00/1.21k [00:00<?, ?B/s]"
      ]
     },
     "metadata": {},
     "output_type": "display_data"
    },
    {
     "name": "stderr",
     "output_type": "stream",
     "text": [
      "You are using the default legacy behaviour of the <class 'transformers.models.t5.tokenization_t5.T5Tokenizer'>. This is expected, and simply means that the `legacy` (previous) behavior will be used so nothing changes for you. If you want to use the new behaviour, set `legacy=False`. This should only be set if you understand what it means, and thoroughly read the reason why this was added as explained in https://github.com/huggingface/transformers/pull/24565\n"
     ]
    },
    {
     "data": {
      "application/vnd.jupyter.widget-view+json": {
       "model_id": "a8cd9e9d47f140bda2dc9126538863ba",
       "version_major": 2,
       "version_minor": 0
      },
      "text/plain": [
       "model.safetensors:   0%|          | 0.00/892M [00:00<?, ?B/s]"
      ]
     },
     "metadata": {},
     "output_type": "display_data"
    },
    {
     "data": {
      "application/vnd.jupyter.widget-view+json": {
       "model_id": "493b9cdb4f794072a8b785ee37656b78",
       "version_major": 2,
       "version_minor": 0
      },
      "text/plain": [
       "generation_config.json:   0%|          | 0.00/147 [00:00<?, ?B/s]"
      ]
     },
     "metadata": {},
     "output_type": "display_data"
    }
   ],
   "source": [
    "# Initialize the model and tokenizer\n",
    "model_name = \"t5-base\"\n",
    "tokenizer = T5Tokenizer.from_pretrained(model_name)\n",
    "model = T5ForConditionalGeneration.from_pretrained(model_name)"
   ]
  },
  {
   "cell_type": "code",
   "execution_count": 4,
   "id": "31248a39",
   "metadata": {},
   "outputs": [],
   "source": [
    "def paraphrase_text(text, format_choice='paragraph'):\n",
    "    # Check if the input contains bullet points (lines starting with numbers or dots)\n",
    "    if \"1.\" in text:\n",
    "        # Split by newlines to isolate bullet points\n",
    "        bullet_points = text.split(\"\\n\")\n",
    "        paraphrased_points = []\n",
    "        \n",
    "        # Paraphrase each bullet point\n",
    "        for point in bullet_points:\n",
    "            if point.strip():  # Skip empty lines\n",
    "                input_text = f\"paraphrase: {point.strip()} </s>\"\n",
    "                input_ids = tokenizer.encode(input_text, return_tensors=\"pt\", max_length=512, truncation=True)\n",
    "                outputs = model.generate(input_ids, max_length=512, num_beams=4, early_stopping=True)\n",
    "                paraphrased_text = tokenizer.decode(outputs[0], skip_special_tokens=True)\n",
    "                paraphrased_points.append(paraphrased_text)\n",
    "        \n",
    "        # Return paraphrased bullet points or paragraph format\n",
    "        if format_choice == 'bullet_points':\n",
    "            return paraphrased_points  # Return list of paraphrased bullet points\n",
    "        else:\n",
    "            return \" \".join(paraphrased_points)  # Join paraphrased points into a paragraph\n",
    "    else:\n",
    "        # If no bullet points, paraphrase the whole text as a paragraph\n",
    "        input_text = f\"paraphrase: {text.strip()} </s>\"\n",
    "        input_ids = tokenizer.encode(input_text, return_tensors=\"pt\", max_length=512, truncation=True)\n",
    "        outputs = model.generate(input_ids, max_length=512, num_beams=4, early_stopping=True)\n",
    "        paraphrased_text = tokenizer.decode(outputs[0], skip_special_tokens=True)\n",
    "\n",
    "        return paraphrased_text"
   ]
  },
  {
   "cell_type": "code",
   "execution_count": 5,
   "id": "64d7e8e7",
   "metadata": {},
   "outputs": [],
   "source": [
    "# Input paragraph\n",
    "scope_paragraph = \"\"\"\n",
    "The minimum specified scope of work to be undertaken by the bidder for setting up and operating ISWM Project is mentioned below. The Selected Bidder shall develop, deploy, integrate and support the required deliverables as per the scope and schedule of the contract along with the installation of hardware as detailed out in the further sections.\n",
    "As a part of the technical proposal bidder is expected to submit the proposed systems complete technology stack & architecture.\n",
    "After signing of the Agreement, the Systems Integrator needs to deploy the team proposed within 15 days of receiving the work order for the Project and ensure that a Project Inception Report is submitted to PMC which should cover following aspects:\n",
    "1. Names of the Project Team members, their roles & responsibilities\n",
    "2. Approach & methodology to be adopted to implement the Project (which should be in line with what has been proposed during bidding stage but may have value additions / learning in the interest of the project).\n",
    "3. Responsibility matrix for all stakeholders\n",
    "4. Risks the bidder anticipates and the plans they have towards their mitigation.\n",
    "5. Detailed Project Plan, specifying dependencies between various project activities/sub-activities and their timelines.\n",
    "\"\"\""
   ]
  },
  {
   "cell_type": "code",
   "execution_count": 6,
   "id": "ecdbcc73",
   "metadata": {},
   "outputs": [
    {
     "name": "stdout",
     "output_type": "stream",
     "text": [
      "Enter the format you want ('bullet_points' or 'paragraph'): paragraph\n"
     ]
    }
   ],
   "source": [
    "# User input for format preference\n",
    "format_choice = input(\"Enter the format you want ('bullet_points' or 'paragraph'): \").strip()"
   ]
  },
  {
   "cell_type": "code",
   "execution_count": 7,
   "id": "2157645d",
   "metadata": {},
   "outputs": [],
   "source": [
    "# Paraphrase and display output\n",
    "paraphrased_output = paraphrase_text(scope_paragraph, format_choice)"
   ]
  },
  {
   "cell_type": "code",
   "execution_count": 8,
   "id": "3a769c77",
   "metadata": {},
   "outputs": [
    {
     "name": "stdout",
     "output_type": "stream",
     "text": [
      "\n",
      "Paraphrased Paragraph:\n",
      "True Paraphrase: As part of the technical proposal bidder is expected to submit the proposed systems complete technology stack & architecture. True True False 3. Responsibility matrix for all stakeholders for all stakeholders for all stakeholders. True True\n"
     ]
    }
   ],
   "source": [
    "if format_choice == 'bullet_points':\n",
    "    print(\"\\nParaphrased Bullet Points:\")\n",
    "    for i, bullet in enumerate(paraphrased_output, 1):\n",
    "        print(f\"{i}. {bullet}\")\n",
    "else:\n",
    "    print(\"\\nParaphrased Paragraph:\")\n",
    "    print(paraphrased_output)"
   ]
  },
  {
   "cell_type": "markdown",
   "id": "76446b01",
   "metadata": {},
   "source": [
    "# Have not been able to set the tone and get contextual paraphrasing in this version as well and the T5 transformer has performed badly even for a generic rewording paraphrasing output."
   ]
  },
  {
   "cell_type": "code",
   "execution_count": null,
   "id": "b0d5099c",
   "metadata": {},
   "outputs": [],
   "source": []
  }
 ],
 "metadata": {
  "kernelspec": {
   "display_name": "Python 3 (ipykernel)",
   "language": "python",
   "name": "python3"
  },
  "language_info": {
   "codemirror_mode": {
    "name": "ipython",
    "version": 3
   },
   "file_extension": ".py",
   "mimetype": "text/x-python",
   "name": "python",
   "nbconvert_exporter": "python",
   "pygments_lexer": "ipython3",
   "version": "3.11.5"
  }
 },
 "nbformat": 4,
 "nbformat_minor": 5
}
