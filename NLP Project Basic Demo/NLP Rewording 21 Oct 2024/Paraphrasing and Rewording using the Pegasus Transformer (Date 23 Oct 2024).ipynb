{
 "cells": [
  {
   "cell_type": "code",
   "execution_count": 1,
   "id": "34870dcc",
   "metadata": {},
   "outputs": [
    {
     "name": "stdout",
     "output_type": "stream",
     "text": [
      "Requirement already satisfied: transformers in c:\\users\\adity\\anaconda3\\lib\\site-packages (4.45.2)\n",
      "Requirement already satisfied: filelock in c:\\users\\adity\\anaconda3\\lib\\site-packages (from transformers) (3.9.0)\n",
      "Requirement already satisfied: huggingface-hub<1.0,>=0.23.2 in c:\\users\\adity\\anaconda3\\lib\\site-packages (from transformers) (0.23.4)\n",
      "Requirement already satisfied: numpy>=1.17 in c:\\users\\adity\\anaconda3\\lib\\site-packages (from transformers) (1.26.4)\n",
      "Requirement already satisfied: packaging>=20.0 in c:\\users\\adity\\anaconda3\\lib\\site-packages (from transformers) (23.1)\n",
      "Requirement already satisfied: pyyaml>=5.1 in c:\\users\\adity\\anaconda3\\lib\\site-packages (from transformers) (6.0.1)\n",
      "Requirement already satisfied: regex!=2019.12.17 in c:\\users\\adity\\anaconda3\\lib\\site-packages (from transformers) (2023.10.3)\n",
      "Requirement already satisfied: requests in c:\\users\\adity\\anaconda3\\lib\\site-packages (from transformers) (2.32.3)\n",
      "Requirement already satisfied: safetensors>=0.4.1 in c:\\users\\adity\\anaconda3\\lib\\site-packages (from transformers) (0.4.5)\n",
      "Requirement already satisfied: tokenizers<0.21,>=0.20 in c:\\users\\adity\\anaconda3\\lib\\site-packages (from transformers) (0.20.1)\n",
      "Requirement already satisfied: tqdm>=4.27 in c:\\users\\adity\\anaconda3\\lib\\site-packages (from transformers) (4.66.4)\n",
      "Requirement already satisfied: fsspec>=2023.5.0 in c:\\users\\adity\\anaconda3\\lib\\site-packages (from huggingface-hub<1.0,>=0.23.2->transformers) (2024.5.0)\n",
      "Requirement already satisfied: typing-extensions>=3.7.4.3 in c:\\users\\adity\\anaconda3\\lib\\site-packages (from huggingface-hub<1.0,>=0.23.2->transformers) (4.10.0)\n",
      "Requirement already satisfied: colorama in c:\\users\\adity\\anaconda3\\lib\\site-packages (from tqdm>=4.27->transformers) (0.4.6)\n",
      "Requirement already satisfied: charset-normalizer<4,>=2 in c:\\users\\adity\\anaconda3\\lib\\site-packages (from requests->transformers) (2.0.4)\n",
      "Requirement already satisfied: idna<4,>=2.5 in c:\\users\\adity\\anaconda3\\lib\\site-packages (from requests->transformers) (3.4)\n",
      "Requirement already satisfied: urllib3<3,>=1.21.1 in c:\\users\\adity\\anaconda3\\lib\\site-packages (from requests->transformers) (1.26.18)\n",
      "Requirement already satisfied: certifi>=2017.4.17 in c:\\users\\adity\\anaconda3\\lib\\site-packages (from requests->transformers) (2024.6.2)\n"
     ]
    }
   ],
   "source": [
    "!pip install transformers"
   ]
  },
  {
   "cell_type": "code",
   "execution_count": 5,
   "id": "abc387b1",
   "metadata": {},
   "outputs": [],
   "source": [
    "from transformers import AutoTokenizer, AutoModelForSeq2SeqLM\n",
    "import warnings\n",
    "warnings.filterwarnings(\"ignore\")"
   ]
  },
  {
   "cell_type": "code",
   "execution_count": 4,
   "id": "2820a3e7",
   "metadata": {},
   "outputs": [
    {
     "data": {
      "application/vnd.jupyter.widget-view+json": {
       "model_id": "022e519b071f45739dc8985adc54718f",
       "version_major": 2,
       "version_minor": 0
      },
      "text/plain": [
       "tokenizer_config.json:   0%|          | 0.00/86.0 [00:00<?, ?B/s]"
      ]
     },
     "metadata": {},
     "output_type": "display_data"
    },
    {
     "name": "stderr",
     "output_type": "stream",
     "text": [
      "C:\\Users\\adity\\anaconda3\\Lib\\site-packages\\huggingface_hub\\file_download.py:157: UserWarning: `huggingface_hub` cache-system uses symlinks by default to efficiently store duplicated files but your machine does not support them in C:\\Users\\adity\\.cache\\huggingface\\hub\\models--tuner007--pegasus_paraphrase. Caching files will still work but in a degraded version that might require more space on your disk. This warning can be disabled by setting the `HF_HUB_DISABLE_SYMLINKS_WARNING` environment variable. For more details, see https://huggingface.co/docs/huggingface_hub/how-to-cache#limitations.\n",
      "To support symlinks on Windows, you either need to activate Developer Mode or to run Python as an administrator. In order to see activate developer mode, see this article: https://docs.microsoft.com/en-us/windows/apps/get-started/enable-your-device-for-development\n",
      "  warnings.warn(message)\n"
     ]
    },
    {
     "data": {
      "application/vnd.jupyter.widget-view+json": {
       "model_id": "5e7a104e77d942fabf3d4f6750e634ac",
       "version_major": 2,
       "version_minor": 0
      },
      "text/plain": [
       "config.json:   0%|          | 0.00/1.14k [00:00<?, ?B/s]"
      ]
     },
     "metadata": {},
     "output_type": "display_data"
    },
    {
     "data": {
      "application/vnd.jupyter.widget-view+json": {
       "model_id": "22371172c32a4980bfc0a2f0b19fd4d2",
       "version_major": 2,
       "version_minor": 0
      },
      "text/plain": [
       "spiece.model:   0%|          | 0.00/1.91M [00:00<?, ?B/s]"
      ]
     },
     "metadata": {},
     "output_type": "display_data"
    },
    {
     "data": {
      "application/vnd.jupyter.widget-view+json": {
       "model_id": "7fbe8dd737104ed3b9738522d0e1ad45",
       "version_major": 2,
       "version_minor": 0
      },
      "text/plain": [
       "special_tokens_map.json:   0%|          | 0.00/65.0 [00:00<?, ?B/s]"
      ]
     },
     "metadata": {},
     "output_type": "display_data"
    },
    {
     "data": {
      "application/vnd.jupyter.widget-view+json": {
       "model_id": "580f87044eb344c987df4ae1c28edd67",
       "version_major": 2,
       "version_minor": 0
      },
      "text/plain": [
       "pytorch_model.bin:   0%|          | 0.00/2.28G [00:00<?, ?B/s]"
      ]
     },
     "metadata": {},
     "output_type": "display_data"
    },
    {
     "name": "stderr",
     "output_type": "stream",
     "text": [
      "Some weights of PegasusForConditionalGeneration were not initialized from the model checkpoint at tuner007/pegasus_paraphrase and are newly initialized: ['model.decoder.embed_positions.weight', 'model.encoder.embed_positions.weight']\n",
      "You should probably TRAIN this model on a down-stream task to be able to use it for predictions and inference.\n"
     ]
    }
   ],
   "source": [
    "tokenizer = AutoTokenizer.from_pretrained(\"tuner007/pegasus_paraphrase\")\n",
    "model = AutoModelForSeq2SeqLM.from_pretrained(\"tuner007/pegasus_paraphrase\")"
   ]
  },
  {
   "cell_type": "code",
   "execution_count": 6,
   "id": "de620052",
   "metadata": {},
   "outputs": [],
   "source": [
    "from transformers import pipeline"
   ]
  },
  {
   "cell_type": "code",
   "execution_count": 7,
   "id": "d147e952",
   "metadata": {},
   "outputs": [],
   "source": [
    "nlp = pipeline('text2text-generation', model=model, tokenizer=tokenizer, truncation=True)"
   ]
  },
  {
   "cell_type": "code",
   "execution_count": 8,
   "id": "07e69520",
   "metadata": {},
   "outputs": [],
   "source": [
    "context = \"\"\"The minimum specified scope of work to be undertaken by the bidder for setting up and operating ISWM Project is mentioned below. The Selected Bidder shall develop, deploy, integrate and support the\n",
    "required deliverables as per the scope and schedule of the contract along with the installation of\n",
    "hardware as detailed out in the further sections.\n",
    "As a part of the technical proposal bidder is expected to submit the proposed systems complete technology\n",
    "stack & architecture.\n",
    "After signing of the Agreement, the Systems Integrator needs to deploy the team proposed within 15 days of\n",
    "receiving the work order for the Project\n",
    "and ensure that a Project Inception Report is submitted to PMC which should cover following aspects:\n",
    "1. Names of the Project Team members, their roles & responsibilities\n",
    "2. Approach & methodology to be adopted to implement the Project (which should be in line with what\n",
    "has been proposed during bidding stage but may have value additions / learning in the interest of the\n",
    "project).\n",
    "3. Responsibility matrix for all stakeholders\n",
    "4. Risks the bidder anticipates and the plans they have towards their mitigation.\n",
    "5. Detailed Project Plan, specifying dependencies between various project activities/sub-activities and\n",
    "their timelines.\n",
    "\"\"\""
   ]
  },
  {
   "cell_type": "code",
   "execution_count": 9,
   "id": "001c4ed3",
   "metadata": {},
   "outputs": [],
   "source": [
    "result = nlp(context)"
   ]
  },
  {
   "cell_type": "code",
   "execution_count": 10,
   "id": "bcbc23c5",
   "metadata": {},
   "outputs": [
    {
     "data": {
      "text/plain": [
       "[{'generated_text': 'As per the scope and schedule of the contract, the Selected Bidder shall develop, deploy, integrate and support the required deliverables as per the scope and schedule of the contract.'}]"
      ]
     },
     "execution_count": 10,
     "metadata": {},
     "output_type": "execute_result"
    }
   ],
   "source": [
    "result"
   ]
  },
  {
   "cell_type": "code",
   "execution_count": 14,
   "id": "d0daa746",
   "metadata": {},
   "outputs": [],
   "source": [
    "import nltk\n",
    "from nltk.tokenize import sent_tokenize"
   ]
  },
  {
   "cell_type": "code",
   "execution_count": 15,
   "id": "0cbd1d1a",
   "metadata": {},
   "outputs": [],
   "source": [
    "sentences = nltk.sent_tokenize(context)"
   ]
  },
  {
   "cell_type": "code",
   "execution_count": 16,
   "id": "a2ffc516",
   "metadata": {},
   "outputs": [
    {
     "data": {
      "text/plain": [
       "['The minimum specified scope of work to be undertaken by the bidder for setting up and operating ISWM Project is mentioned below.',\n",
       " 'The Selected Bidder shall develop, deploy, integrate and support the\\nrequired deliverables as per the scope and schedule of the contract along with the installation of\\nhardware as detailed out in the further sections.',\n",
       " 'As a part of the technical proposal bidder is expected to submit the proposed systems complete technology\\nstack & architecture.',\n",
       " 'After signing of the Agreement, the Systems Integrator needs to deploy the team proposed within 15 days of\\nreceiving the work order for the Project\\nand ensure that a Project Inception Report is submitted to PMC which should cover following aspects:\\n1.',\n",
       " 'Names of the Project Team members, their roles & responsibilities\\n2.',\n",
       " 'Approach & methodology to be adopted to implement the Project (which should be in line with what\\nhas been proposed during bidding stage but may have value additions / learning in the interest of the\\nproject).',\n",
       " '3.',\n",
       " 'Responsibility matrix for all stakeholders\\n4.',\n",
       " 'Risks the bidder anticipates and the plans they have towards their mitigation.',\n",
       " '5.',\n",
       " 'Detailed Project Plan, specifying dependencies between various project activities/sub-activities and\\ntheir timelines.']"
      ]
     },
     "execution_count": 16,
     "metadata": {},
     "output_type": "execute_result"
    }
   ],
   "source": [
    "sentences"
   ]
  },
  {
   "cell_type": "code",
   "execution_count": 17,
   "id": "1aaf3220",
   "metadata": {},
   "outputs": [],
   "source": [
    "array1 = []\n",
    "array2 = []"
   ]
  },
  {
   "cell_type": "code",
   "execution_count": 19,
   "id": "413a230e",
   "metadata": {},
   "outputs": [
    {
     "data": {
      "text/plain": [
       "11"
      ]
     },
     "execution_count": 19,
     "metadata": {},
     "output_type": "execute_result"
    }
   ],
   "source": [
    "len(sentences)"
   ]
  },
  {
   "cell_type": "code",
   "execution_count": 18,
   "id": "57d1cbc6",
   "metadata": {},
   "outputs": [],
   "source": [
    " for i in range(0, len(sentences)-1):\n",
    "        array1.append(nlp(sentences[i]))"
   ]
  },
  {
   "cell_type": "code",
   "execution_count": 20,
   "id": "2eb5f8cf",
   "metadata": {},
   "outputs": [
    {
     "data": {
      "text/plain": [
       "[[{'generated_text': 'The minimum scope of work to be undertaken by the bidder is mentioned below.'}],\n",
       " [{'generated_text': 'The Selected Bidder shall develop, deploy, integrate and support the required deliverables as per the scope and schedule of the contract along with the installation of hardware as detailed in the further sections.'}],\n",
       " [{'generated_text': 'The systems complete technology stack and architecture is expected to be submitted by the bidder.'}],\n",
       " [{'generated_text': 'After signing of the Agreement, the Systems Integrator needs to deploy the team proposed within 15 days of receiving the work order for the Project and ensure that a Project Inception Report is submitted to PMC which should cover following aspects:'}],\n",
       " [{'generated_text': 'The names of the Project Team members.'}],\n",
       " [{'generated_text': 'The approach and methodology to implement the project should be in line with what has been proposed during the bidding stage but may have value additions and learning in the interest of the project.'}],\n",
       " [{'generated_text': '3.'}],\n",
       " [{'generated_text': 'All stakeholders have a responsibility matrix.'}],\n",
       " [{'generated_text': 'The bidder has plans towards their mitigation.'}],\n",
       " [{'generated_text': '5.'}]]"
      ]
     },
     "execution_count": 20,
     "metadata": {},
     "output_type": "execute_result"
    }
   ],
   "source": [
    "array1"
   ]
  },
  {
   "cell_type": "code",
   "execution_count": 21,
   "id": "d4f9acf8",
   "metadata": {},
   "outputs": [
    {
     "data": {
      "text/plain": [
       "10"
      ]
     },
     "execution_count": 21,
     "metadata": {},
     "output_type": "execute_result"
    }
   ],
   "source": [
    "len(array1)"
   ]
  },
  {
   "cell_type": "code",
   "execution_count": 22,
   "id": "775d5e03",
   "metadata": {},
   "outputs": [],
   "source": [
    "for i in range(len(array1)):\n",
    "    array2.append(array1[i][0]['generated_text'])"
   ]
  },
  {
   "cell_type": "code",
   "execution_count": 23,
   "id": "02278e36",
   "metadata": {},
   "outputs": [
    {
     "data": {
      "text/plain": [
       "['The minimum scope of work to be undertaken by the bidder is mentioned below.',\n",
       " 'The Selected Bidder shall develop, deploy, integrate and support the required deliverables as per the scope and schedule of the contract along with the installation of hardware as detailed in the further sections.',\n",
       " 'The systems complete technology stack and architecture is expected to be submitted by the bidder.',\n",
       " 'After signing of the Agreement, the Systems Integrator needs to deploy the team proposed within 15 days of receiving the work order for the Project and ensure that a Project Inception Report is submitted to PMC which should cover following aspects:',\n",
       " 'The names of the Project Team members.',\n",
       " 'The approach and methodology to implement the project should be in line with what has been proposed during the bidding stage but may have value additions and learning in the interest of the project.',\n",
       " '3.',\n",
       " 'All stakeholders have a responsibility matrix.',\n",
       " 'The bidder has plans towards their mitigation.',\n",
       " '5.']"
      ]
     },
     "execution_count": 23,
     "metadata": {},
     "output_type": "execute_result"
    }
   ],
   "source": [
    "array2"
   ]
  },
  {
   "cell_type": "code",
   "execution_count": 24,
   "id": "269c0347",
   "metadata": {},
   "outputs": [
    {
     "data": {
      "text/plain": [
       "10"
      ]
     },
     "execution_count": 24,
     "metadata": {},
     "output_type": "execute_result"
    }
   ],
   "source": [
    "len(array2)"
   ]
  },
  {
   "cell_type": "code",
   "execution_count": 25,
   "id": "8d46a8b2",
   "metadata": {},
   "outputs": [],
   "source": [
    "para = ' '.join(array2)"
   ]
  },
  {
   "cell_type": "code",
   "execution_count": 26,
   "id": "36ed93c8",
   "metadata": {},
   "outputs": [
    {
     "data": {
      "text/plain": [
       "'The minimum scope of work to be undertaken by the bidder is mentioned below. The Selected Bidder shall develop, deploy, integrate and support the required deliverables as per the scope and schedule of the contract along with the installation of hardware as detailed in the further sections. The systems complete technology stack and architecture is expected to be submitted by the bidder. After signing of the Agreement, the Systems Integrator needs to deploy the team proposed within 15 days of receiving the work order for the Project and ensure that a Project Inception Report is submitted to PMC which should cover following aspects: The names of the Project Team members. The approach and methodology to implement the project should be in line with what has been proposed during the bidding stage but may have value additions and learning in the interest of the project. 3. All stakeholders have a responsibility matrix. The bidder has plans towards their mitigation. 5.'"
      ]
     },
     "execution_count": 26,
     "metadata": {},
     "output_type": "execute_result"
    }
   ],
   "source": [
    "para"
   ]
  },
  {
   "cell_type": "code",
   "execution_count": 27,
   "id": "3d22e0da",
   "metadata": {
    "scrolled": false
   },
   "outputs": [
    {
     "name": "stdout",
     "output_type": "stream",
     "text": [
      "Original input paragraph:-\n",
      " The minimum specified scope of work to be undertaken by the bidder for setting up and operating ISWM Project is mentioned below. The Selected Bidder shall develop, deploy, integrate and support the\n",
      "required deliverables as per the scope and schedule of the contract along with the installation of\n",
      "hardware as detailed out in the further sections.\n",
      "As a part of the technical proposal bidder is expected to submit the proposed systems complete technology\n",
      "stack & architecture.\n",
      "After signing of the Agreement, the Systems Integrator needs to deploy the team proposed within 15 days of\n",
      "receiving the work order for the Project\n",
      "and ensure that a Project Inception Report is submitted to PMC which should cover following aspects:\n",
      "1. Names of the Project Team members, their roles & responsibilities\n",
      "2. Approach & methodology to be adopted to implement the Project (which should be in line with what\n",
      "has been proposed during bidding stage but may have value additions / learning in the interest of the\n",
      "project).\n",
      "3. Responsibility matrix for all stakeholders\n",
      "4. Risks the bidder anticipates and the plans they have towards their mitigation.\n",
      "5. Detailed Project Plan, specifying dependencies between various project activities/sub-activities and\n",
      "their timelines.\n",
      "\n",
      "Reworded paraphrased paragraph:-\n",
      " The minimum scope of work to be undertaken by the bidder is mentioned below. The Selected Bidder shall develop, deploy, integrate and support the required deliverables as per the scope and schedule of the contract along with the installation of hardware as detailed in the further sections. The systems complete technology stack and architecture is expected to be submitted by the bidder. After signing of the Agreement, the Systems Integrator needs to deploy the team proposed within 15 days of receiving the work order for the Project and ensure that a Project Inception Report is submitted to PMC which should cover following aspects: The names of the Project Team members. The approach and methodology to implement the project should be in line with what has been proposed during the bidding stage but may have value additions and learning in the interest of the project. 3. All stakeholders have a responsibility matrix. The bidder has plans towards their mitigation. 5.\n"
     ]
    }
   ],
   "source": [
    "print(\"Original input paragraph:-\\n\",context)\n",
    "print(\"Reworded paraphrased paragraph:-\\n\",para)"
   ]
  },
  {
   "cell_type": "code",
   "execution_count": null,
   "id": "ec5ccbab",
   "metadata": {},
   "outputs": [],
   "source": []
  }
 ],
 "metadata": {
  "kernelspec": {
   "display_name": "Python 3 (ipykernel)",
   "language": "python",
   "name": "python3"
  },
  "language_info": {
   "codemirror_mode": {
    "name": "ipython",
    "version": 3
   },
   "file_extension": ".py",
   "mimetype": "text/x-python",
   "name": "python",
   "nbconvert_exporter": "python",
   "pygments_lexer": "ipython3",
   "version": "3.11.5"
  }
 },
 "nbformat": 4,
 "nbformat_minor": 5
}
