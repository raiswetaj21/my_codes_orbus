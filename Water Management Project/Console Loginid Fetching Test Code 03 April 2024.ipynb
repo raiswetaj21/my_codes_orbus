{
 "cells": [
  {
   "cell_type": "markdown",
   "id": "76503013",
   "metadata": {},
   "source": [
    "# Beautiful Soup Usage"
   ]
  },
  {
   "cell_type": "code",
   "execution_count": 1,
   "id": "9a1510ba",
   "metadata": {},
   "outputs": [],
   "source": [
    "# Importing the necessary packages/libraries\n",
    "\n",
    "import requests\n",
    "import pandas as pd\n",
    "from bs4 import BeautifulSoup\n",
    "\n",
    "import warnings\n",
    "warnings.simplefilter(\"ignore\")\n",
    "warnings.filterwarnings(\"ignore\")\n",
    "\n",
    "import time\n",
    "import selenium\n",
    "from selenium import webdriver\n",
    "from selenium.webdriver.common.by import By\n",
    "from selenium.webdriver.chrome.service import Service\n",
    "from selenium.common.exceptions import NoSuchElementException, StaleElementReferenceException, ElementClickInterceptedException"
   ]
  },
  {
   "cell_type": "code",
   "execution_count": 2,
   "id": "bdb3780f",
   "metadata": {},
   "outputs": [
    {
     "name": "stdout",
     "output_type": "stream",
     "text": [
      "Master Dashboard Webpage request response number is <Response [200]>\n"
     ]
    }
   ],
   "source": [
    "masterdb = requests.get(\"https://iswmpune.in/maindashboard\")\n",
    "print(\"Master Dashboard Webpage request response number is\", masterdb) # to show the response output"
   ]
  },
  {
   "cell_type": "code",
   "execution_count": 3,
   "id": "5aa799d3",
   "metadata": {
    "scrolled": false
   },
   "outputs": [
    {
     "data": {
      "text/plain": [
       "<!DOCTYPE html>\n",
       "<html xmlns=\"http://www.w3.org/1999/xhtml\">\n",
       "<head>\n",
       "<meta charset=\"utf-8\"/>\n",
       "<meta content=\"IE=edge\" http-equiv=\"X-UA-Compatible\"/>\n",
       "<meta content=\"width=device-width, initial-scale=1.0\" name=\"viewport\"/>\n",
       "<link href=\"css/global.css\" rel=\"stylesheet\"/>\n",
       "<script crossorigin=\"anonymous\" src=\"https://kit.fontawesome.com/e8c1c6e963.js\"></script>\n",
       "<!-- Bootstrap links -->\n",
       "<link crossorigin=\"anonymous\" href=\"https://stackpath.bootstrapcdn.com/bootstrap/4.2.1/css/bootstrap.min.css\" integrity=\"sha384-GJzZqFGwb1QTTN6wy59ffF1BuGJpLSa9DkKMp0DgiMDm4iYMj70gZWKYbI706tWS\" rel=\"stylesheet\"/>\n",
       "<script crossorigin=\"anonymous\" integrity=\"sha384-q8i/X+965DzO0rT7abK41JStQIAqVgRVzpbzo5smXKp4YfRvH+8abtTE1Pi6jizo\" src=\"https://code.jquery.com/jquery-3.3.1.slim.min.js\"></script>\n",
       "<script crossorigin=\"anonymous\" integrity=\"sha384-wHAiFfRlMFy6i5SRaxvfOCifBUQy1xHdJ/yoi7FRNXMRBu5WHdZYu1hA6ZOblgut\" src=\"https://cdnjs.cloudflare.com/ajax/libs/popper.js/1.14.6/umd/popper.min.js\"></script>\n",
       "<script crossorigin=\"anonymous\" integrity=\"sha384-B0UglyR+jN6CkvvICOB2joaf5I4l3gm9GU6Hc1og6Ls7i6U/mkkaduKaBhlAXv9k\" src=\"https://stackpath.bootstrapcdn.com/bootstrap/4.2.1/js/bootstrap.min.js\"></script>\n",
       "<script src=\"js/jquery-3.3.1.min.js\"></script>\n",
       "<!-- Bootstrap links end -->\n",
       "<link href=\"https://cdnjs.cloudflare.com/ajax/libs/animate.css/4.1.1/animate.min.css\" rel=\"stylesheet\"/>\n",
       "<title>Login</title>\n",
       "</head>\n",
       "<body>\n",
       "<form action=\"./Login\" id=\"ctl00\" method=\"post\">\n",
       "<input id=\"__VIEWSTATE\" name=\"__VIEWSTATE\" type=\"hidden\" value=\"RXeNUH+hEV/R81A9K8VUQ5VGgWOIu27IwyTjPpxQoPLQmTb7Jop2gR6YkK5orkHmiYcAxW1x3UKencUGjb6ihQtBQMt15715jg7tf6wAbEFUAnH1qvnDewPwYnaPo93Q2mfz/VldqyX8nDgDRjRcUQ==\"/>\n",
       "<input id=\"__VIEWSTATEGENERATOR\" name=\"__VIEWSTATEGENERATOR\" type=\"hidden\" value=\"C2EE9ABB\"/>\n",
       "<input id=\"__EVENTVALIDATION\" name=\"__EVENTVALIDATION\" type=\"hidden\" value=\"1YraU1zvbQ6Pfn/K1Xpvs4sA5+Iriv3MNDpjBWwr7DHZzoOgdqFCsOU6HdSxDI/BjBnPhl4S+oG/BdjFajGkxIGTykUUGs7pZK0h0o7UeoU9MLmf7RuO2HaCIWllz2NJ9ynzvoxrW3OOKHpRHMHVI5W93njMhehXJyLw3fAdB35qnWHm0Olcuvcx3PjLwhhprbYbn+q+8n6+hadl4nm7Vg==\"/>\n",
       "<div class=\"container-fluid login_page pb-2 d-flex justify-content-center align-items-center\">\n",
       "<div class=\"container text-center d-flex justify-content-center align-items-center\">\n",
       "<div class=\"form-col\">\n",
       "<div class=\"animate__animated animate__slideInDown\">\n",
       "<div class=\"row d-flex justify-content-center align-items-center mt-2\">\n",
       "<div class=\"col-3 login__companylogo1\">\n",
       "<img alt=\"\" src=\"Images/pmcsmart.png\"/>\n",
       "</div>\n",
       "<div class=\"col-3 login__companylogo2\">\n",
       "<img alt=\"\" src=\"Images/pmc_logo.png\"/>\n",
       "</div>\n",
       "<div class=\"col-auto login__companylogo3\">\n",
       "<img alt=\"\" src=\"Images/logo.png\"/>\n",
       "</div>\n",
       "</div>\n",
       "<h2>Lets build a</h2>\n",
       "<h1 class=\"text-nowrap\">Clean India Digitally</h1>\n",
       "<div class=\"row justify-content-center\">\n",
       "<div class=\"col-2\">\n",
       "<img alt=\"truck icon\" class=\"swm_icons\" src=\"Images/truck_icon.png\"/>\n",
       "</div>\n",
       "<div class=\"col-2\">\n",
       "<img alt=\"person throwing garbage in trash can icon\" class=\"swm_icons\" src=\"Images/garbage_throw.png\"/>\n",
       "</div>\n",
       "<div class=\"col-2\">\n",
       "<img alt=\"broom icon\" class=\"swm_icons\" src=\"Images/broom_icon.png\"/>\n",
       "</div>\n",
       "<div class=\"col-2\">\n",
       "<img alt=\"hand icon\" class=\"swm_icons\" src=\"Images/hand_icon.png\"/>\n",
       "</div>\n",
       "<div class=\"col-2\">\n",
       "<img alt=\"mask icon\" class=\"swm_icons\" src=\"Images/mask_icon.png\"/>\n",
       "</div>\n",
       "</div>\n",
       "<div class=\"py-1 my-sm-4 d-flex justify-content-center align-items center\">\n",
       "<h2 class=\"m-0 title_banner\">Pune Municipal Corporation</h2>\n",
       "</div>\n",
       "</div>\n",
       "<div class=\"form-container bg-light rounded px-lg-5 px-3 py-3 mx-lg-4 mx-sm-0 animate__animated animate__zoomIn\">\n",
       "<h2 class=\"mt-1 mb-3\">Login</h2>\n",
       "<div class=\"d-flex align-items-center border-green rounded pl-2 mb-3\">\n",
       "<i class=\"fa-solid fa-user\"></i>\n",
       "<input class=\"form-control border-0\" id=\"txtUser\" name=\"txtUser\" placeholder=\"Enter Username\" type=\"text\"/>\n",
       "</div>\n",
       "<div class=\"d-flex align-items-center border-green rounded pl-2 mb-3\">\n",
       "<i class=\"fa-solid fa-lock cursor-pointer\" onclick=\"showPass()\"></i>\n",
       "<input autocomplete=\"off\" class=\"form-control border-0\" id=\"txtPassward\" name=\"txtPassward\" placeholder=\"Enter Password\" type=\"password\"/>\n",
       "</div>\n",
       "<div class=\"d-flex align-items-center border-green rounded pl-2\">\n",
       "<span class=\"fw-bold\" id=\"captchaContainer\">DU2l</span>\n",
       "<input class=\"form-control border-0\" id=\"captchaTxt\" name=\"captchaTxt\" placeholder=\"Enter captcha\" type=\"text\"/>\n",
       "<a href=\"javascript:__doPostBack('reloadCaptchaButton','')\" id=\"reloadCaptchaButton\">\n",
       "<i class=\"fa-solid fa-rotate-right mr-2 cursor-pointer\"></i>\n",
       "</a>\n",
       "</div>\n",
       "<div class=\"d-flex justify-content-end\">\n",
       "<a href=\"\">Forgot Password?</a>\n",
       "</div>\n",
       "<div class=\"d-flex justify-content-start align-items-center mb-2\">\n",
       "<input checked=\"\" id=\"rememberChbx\" type=\"checkbox\"/>\n",
       "<label class=\"mb-0 ml-1\" for=\"rememberChbx\">Remember me</label>\n",
       "</div>\n",
       "<div class=\"d-flex justify-content-center my-3\">\n",
       "<input class=\"btn btn-success px-4\" id=\"btnLogin\" name=\"btnLogin\" type=\"submit\" value=\"Submit\"/>\n",
       "</div>\n",
       "<p class=\"mt-sm-3 mt-lg-3\">\n",
       "                            Disclaimer:The content available on the website is provided Pune\n",
       "                            Municipal Corporation and all the information available on this\n",
       "                            website is authentic. Copyright © 2018\n",
       "                            <a href=\"https://pmc.gov.in/mr/swm\" target=\"_blank\">Pune Municipal Corporation </a>. All Rights Reserved. Designed &amp; Developed By:\n",
       "                            <a href=\"https://www.scstechindia.com/\" target=\"_blank\">SCS Tech India Pvt. Ltd.</a>\n",
       "</p>\n",
       "</div>\n",
       "</div>\n",
       "</div>\n",
       "</div>\n",
       "</form>\n",
       "<script crossorigin=\"anonymous\" integrity=\"sha384-I7E8VVD/ismYTF4hNIPjVp/Zjvgyol6VFvRkX/vR+Vc4jQkC+hVqc2pM8ODewa9r\" src=\"https://cdn.jsdelivr.net/npm/@popperjs/core@2.11.8/dist/umd/popper.min.js\"></script>\n",
       "<script crossorigin=\"anonymous\" integrity=\"sha384-BBtl+eGJRgqQAUMxJ7pMwbEyER4l1g+O15P+16Ep7Q9Q+zqX6gSbd85u4mG4QzX+\" src=\"https://cdn.jsdelivr.net/npm/bootstrap@5.3.2/dist/js/bootstrap.min.js\"></script>\n",
       "<script>\n",
       "        const showPass = () => {\n",
       "            const passInput = document.getElementById('txtPassward');\n",
       "            if (passInput.type === 'password') {\n",
       "                passInput.type = 'text';\n",
       "            } else {\n",
       "                passInput.type = 'password';\n",
       "            }\n",
       "        }\n",
       "    </script>\n",
       "</body>\n",
       "</html>"
      ]
     },
     "execution_count": 3,
     "metadata": {},
     "output_type": "execute_result"
    }
   ],
   "source": [
    "soup_masterdb = BeautifulSoup(masterdb.content)\n",
    "soup_masterdb"
   ]
  },
  {
   "cell_type": "code",
   "execution_count": 4,
   "id": "41834a0f",
   "metadata": {},
   "outputs": [
    {
     "name": "stdout",
     "output_type": "stream",
     "text": [
      "Master Dashboard Webpage request response number is <Response [200]>\n"
     ]
    }
   ],
   "source": [
    "dashboard = requests.get(\"https://iswmpune.in/Flask_Test/Master_DB//\")\n",
    "print(\"Master Dashboard Webpage request response number is\", dashboard) # to show the response output"
   ]
  },
  {
   "cell_type": "code",
   "execution_count": 5,
   "id": "8aacbd35",
   "metadata": {},
   "outputs": [
    {
     "data": {
      "text/plain": [
       "<!DOCTYPE html>\n",
       "<html>\n",
       "<head>\n",
       "<meta content=\"IE=edge\" http-equiv=\"X-UA-Compatible\"/>\n",
       "<meta charset=\"utf-8\"/>\n",
       "<meta content=\"width=device-width, initial-scale=1\" name=\"viewport\"/>\n",
       "<title>Dash</title>\n",
       "<link href=\"/Flask_Test/Master_DB/assets/favicon.ico?m=1661978442.266466\" rel=\"icon\" type=\"image/x-icon\"/>\n",
       "<link href=\"https://cdn.jsdelivr.net/npm/bootstrap@5.2.3/dist/css/bootstrap.min.css\" rel=\"stylesheet\"/>\n",
       "<link href=\"/Flask_Test/Master_DB/assets/chetan.css?m=1702375046.6193628\" rel=\"stylesheet\"/>\n",
       "<link href=\"/Flask_Test/Master_DB/assets/style (2).css?m=1691479577.192711\" rel=\"stylesheet\"/>\n",
       "<link href=\"/Flask_Test/Master_DB/assets/style - Copy.css?m=1699250028.0093553\" rel=\"stylesheet\"/>\n",
       "<link href=\"/Flask_Test/Master_DB/assets/style.css?m=1690962378.7600598\" rel=\"stylesheet\"/>\n",
       "</head>\n",
       "<body>\n",
       "<!--[if IE]><script>\n",
       "        alert(\"Dash v2.7+ does not support Internet Explorer. Please use a newer browser.\");\n",
       "        </script><![endif]-->\n",
       "<div id=\"react-entry-point\">\n",
       "<div class=\"_dash-loading\">\n",
       "        Loading...\n",
       "    </div>\n",
       "</div>\n",
       "<footer>\n",
       "<script id=\"_dash-config\" type=\"application/json\">{\"url_base_pathname\":null,\"requests_pathname_prefix\":\"\\u002fFlask_Test\\u002fMaster_DB\\u002f\",\"ui\":false,\"props_check\":false,\"show_undo_redo\":false,\"suppress_callback_exceptions\":true,\"update_title\":\"Updating...\",\"children_props\":{\"dash_core_components\":{\"Checklist\":[\"options[].label\"],\"Clipboard\":[],\"ConfirmDialog\":[],\"ConfirmDialogProvider\":[],\"DatePickerRange\":[],\"DatePickerSingle\":[],\"Download\":[],\"Dropdown\":[\"options[].label\"],\"Geolocation\":[],\"Graph\":[],\"Input\":[],\"Interval\":[],\"Link\":[],\"Loading\":[],\"Location\":[],\"LogoutButton\":[],\"Markdown\":[],\"RadioItems\":[\"options[].label\"],\"RangeSlider\":[],\"Slider\":[],\"Store\":[],\"Tab\":[],\"Tabs\":[],\"Textarea\":[],\"Tooltip\":[],\"Upload\":[]},\"dash_html_components\":{\"A\":[],\"Abbr\":[],\"Acronym\":[],\"Address\":[],\"Area\":[],\"Article\":[],\"Aside\":[],\"Audio\":[],\"B\":[],\"Base\":[],\"Basefont\":[],\"Bdi\":[],\"Bdo\":[],\"Big\":[],\"Blink\":[],\"Blockquote\":[],\"Br\":[],\"Button\":[],\"Canvas\":[],\"Caption\":[],\"Center\":[],\"Cite\":[],\"Code\":[],\"Col\":[],\"Colgroup\":[],\"Content\":[],\"Data\":[],\"Datalist\":[],\"Dd\":[],\"Del\":[],\"Details\":[],\"Dfn\":[],\"Dialog\":[],\"Div\":[],\"Dl\":[],\"Dt\":[],\"Em\":[],\"Embed\":[],\"Fieldset\":[],\"Figcaption\":[],\"Figure\":[],\"Font\":[],\"Footer\":[],\"Form\":[],\"Frame\":[],\"Frameset\":[],\"H1\":[],\"H2\":[],\"H3\":[],\"H4\":[],\"H5\":[],\"H6\":[],\"Header\":[],\"Hgroup\":[],\"Hr\":[],\"I\":[],\"Iframe\":[],\"Img\":[],\"Ins\":[],\"Kbd\":[],\"Keygen\":[],\"Label\":[],\"Legend\":[],\"Li\":[],\"Link\":[],\"Main\":[],\"MapEl\":[],\"Mark\":[],\"Marquee\":[],\"Meta\":[],\"Meter\":[],\"Nav\":[],\"Nobr\":[],\"Noscript\":[],\"ObjectEl\":[],\"Ol\":[],\"Optgroup\":[],\"Option\":[],\"Output\":[],\"P\":[],\"Param\":[],\"Picture\":[],\"Plaintext\":[],\"Pre\":[],\"Progress\":[],\"Q\":[],\"Rb\":[],\"Rp\":[],\"Rt\":[],\"Rtc\":[],\"Ruby\":[],\"S\":[],\"Samp\":[],\"Script\":[],\"Section\":[],\"Select\":[],\"Shadow\":[],\"Slot\":[],\"Small\":[],\"Source\":[],\"Spacer\":[],\"Span\":[],\"Strike\":[],\"Strong\":[],\"Sub\":[],\"Summary\":[],\"Sup\":[],\"Table\":[],\"Tbody\":[],\"Td\":[],\"Template\":[],\"Textarea\":[],\"Tfoot\":[],\"Th\":[],\"Thead\":[],\"Time\":[],\"Title\":[],\"Tr\":[],\"Track\":[],\"U\":[],\"Ul\":[],\"Var\":[],\"Video\":[],\"Wbr\":[],\"Xmp\":[]},\"dash_table\":{\"DataTable\":[]},\"dash_bootstrap_components\":{\"Accordion\":[],\"AccordionItem\":[],\"Alert\":[],\"Badge\":[],\"Breadcrumb\":[],\"Button\":[],\"ButtonGroup\":[],\"Card\":[],\"CardBody\":[],\"CardFooter\":[],\"CardGroup\":[],\"CardHeader\":[],\"CardImg\":[],\"CardImgOverlay\":[],\"CardLink\":[],\"Carousel\":[],\"Collapse\":[],\"DropdownMenu\":[\"label\"],\"DropdownMenuItem\":[],\"Fade\":[],\"Form\":[],\"FormFeedback\":[],\"FormFloating\":[],\"FormText\":[],\"Label\":[],\"Checkbox\":[\"label\"],\"Checklist\":[\"options[].label\"],\"Input\":[],\"InputGroup\":[],\"InputGroupText\":[],\"RadioButton\":[\"label\"],\"RadioItems\":[\"options[].label\"],\"Select\":[],\"Switch\":[\"label\"],\"Textarea\":[],\"Col\":[],\"Container\":[],\"Row\":[],\"Stack\":[],\"ListGroup\":[],\"ListGroupItem\":[],\"Modal\":[],\"ModalBody\":[],\"ModalFooter\":[],\"ModalHeader\":[],\"ModalTitle\":[],\"Nav\":[],\"NavItem\":[],\"NavLink\":[],\"Navbar\":[],\"NavbarBrand\":[],\"NavbarSimple\":[\"brand\"],\"NavbarToggler\":[],\"Offcanvas\":[\"title\"],\"Pagination\":[],\"Placeholder\":[],\"Popover\":[],\"PopoverBody\":[],\"PopoverHeader\":[],\"Progress\":[],\"Spinner\":[],\"Table\":[],\"Tab\":[],\"Tabs\":[],\"Toast\":[\"header\"],\"Tooltip\":[]},\"dash_trich_components\":{\"Card\":null,\"Carousel\":null,\"GridLayoutComponent\":null,\"GridItem\":null,\"ResponsiveGrid\":null,\"SideBar\":null,\"SideBarItem\":null,\"ThemeToggle\":null},\"dash_mantine_components\":{\"Accordion\":[\"chevron\"],\"AccordionControl\":[\"chevron\",\"icon\"],\"AccordionItem\":[],\"AccordionMultiple\":[\"chevron\"],\"AccordionPanel\":[],\"AppShell\":[\"navbar\",\"aside\",\"header\",\"footer\"],\"Aside\":[],\"Footer\":[],\"Header\":[],\"Navbar\":[],\"Avatar\":[],\"AvatarGroup\":[],\"Button\":[\"leftIcon\",\"rightIcon\"],\"ButtonGroup\":[],\"Card\":[],\"CardSection\":[],\"Checkbox\":[\"label\"],\"CheckboxGroup\":[\"label\",\"description\",\"error\"],\"Chip\":[],\"ChipGroup\":[],\"HoverCard\":[],\"HoverCardDropdown\":[],\"HoverCardTarget\":[],\"BackgroundImage\":[],\"Image\":[\"placeholder\",\"caption\"],\"List\":[\"icon\"],\"ListItem\":[\"icon\"],\"Menu\":[],\"MenuDivider\":[],\"MenuDropdown\":[],\"MenuItem\":[\"icon\",\"rightSection\"],\"MenuLabel\":[],\"MenuTarget\":[],\"Radio\":[\"label\"],\"RadioGroup\":[\"label\",\"description\",\"error\"],\"MultiSelect\":[\"nothingFound\",\"label\",\"description\",\"error\",\"icon\",\"rightSection\"],\"Select\":[\"nothingFound\",\"label\",\"description\",\"error\",\"icon\",\"rightSection\"],\"RangeSlider\":[\"marks[].label\",\"thumbChildren\"],\"Slider\":[\"marks[].label\",\"thumbChildren\"],\"Stepper\":[\"completedIcon\",\"progressIcon\"],\"StepperCompleted\":[],\"StepperStep\":[\"icon\",\"completedIcon\",\"progressIcon\",\"label\",\"description\"],\"Tab\":[\"rightSection\",\"icon\"],\"Tabs\":[],\"TabsList\":[],\"TabsPanel\":[],\"JsonInput\":[\"validationError\",\"icon\",\"rightSection\",\"label\",\"description\",\"error\"],\"NumberInput\":[\"icon\",\"rightSection\",\"label\",\"description\",\"error\"],\"PasswordInput\":[\"icon\",\"rightSection\",\"label\",\"description\",\"error\"],\"TextInput\":[\"icon\",\"rightSection\",\"label\",\"description\",\"error\"],\"Textarea\":[\"icon\",\"rightSection\",\"label\",\"description\",\"error\"],\"Timeline\":[],\"TimelineItem\":[\"title\",\"bullet\"],\"FloatingTooltip\":[\"label\"],\"Tooltip\":[\"label\"],\"ActionIcon\":[],\"Affix\":[],\"Alert\":[\"title\",\"icon\"],\"Anchor\":[],\"Badge\":[\"leftSection\",\"rightSection\"],\"Blockquote\":[\"icon\",\"cite\"],\"Breadcrumbs\":[\"separator\"],\"Burger\":[],\"Center\":[],\"Code\":[],\"Col\":[],\"ColorPicker\":[],\"Container\":[],\"Divider\":[\"label\"],\"Drawer\":[\"title\"],\"Grid\":[],\"Group\":[],\"Highlight\":[],\"Indicator\":[\"label\"],\"Kbd\":[],\"Loader\":[],\"LoadingOverlay\":[\"loader\"],\"MantineProvider\":[],\"Mark\":[],\"MediaQuery\":[],\"Modal\":[\"title\"],\"NavLink\":[\"label\",\"description\",\"icon\",\"rightSection\"],\"Pagination\":[],\"Paper\":[],\"Prism\":[],\"Progress\":[\"sections[].tooltip\"],\"RingProgress\":[\"label\",\"sections[].tooltip\"],\"ScrollArea\":[],\"SegmentedControl\":[],\"SimpleGrid\":[],\"Skeleton\":[],\"Space\":[],\"Spoiler\":[],\"Stack\":[],\"Switch\":[\"label\",\"offLabel\",\"onLabel\",\"thumbIcon\"],\"Table\":[],\"Text\":[],\"ThemeIcon\":[],\"Title\":[],\"TransferList\":[],\"DatePicker\":[\"icon\",\"rightSection\",\"label\",\"description\",\"error\"],\"DateRangePicker\":[\"icon\",\"rightSection\",\"label\",\"description\",\"error\"],\"TimeInput\":[\"icon\",\"rightSection\",\"label\",\"description\",\"error\"],\"DemoSegmentedControl\":[],\"DemoSlider\":[],\"Notification\":[\"icon\",\"title\",\"message\"],\"NotificationsProvider\":[]},\"dash_iconify\":{\"DashIconify\":null}}}</script>\n",
       "<script src=\"/Flask_Test/Master_DB/_dash-component-suites/dash/deps/polyfill@7.v2_11_1m1708445811.12.1.min.js\"></script>\n",
       "<script src=\"/Flask_Test/Master_DB/_dash-component-suites/dash/deps/react@16.v2_11_1m1708445811.14.0.min.js\"></script>\n",
       "<script src=\"/Flask_Test/Master_DB/_dash-component-suites/dash/deps/react-dom@16.v2_11_1m1708445811.14.0.min.js\"></script>\n",
       "<script src=\"/Flask_Test/Master_DB/_dash-component-suites/dash/deps/prop-types@15.v2_11_1m1708445811.8.1.min.js\"></script>\n",
       "<script src=\"/Flask_Test/Master_DB/_dash-component-suites/dash_bootstrap_components/_components/dash_bootstrap_components.v1_4_1m1708445814.min.js\"></script>\n",
       "<script src=\"/Flask_Test/Master_DB/_dash-component-suites/dash_trich_components/dash_trich_components.v1_0_0m1625013906.min.js\"></script>\n",
       "<script src=\"/Flask_Test/Master_DB/_dash-component-suites/dash_mantine_components/dash_mantine_components.v0_12_1m1708445700.js\"></script>\n",
       "<script src=\"/Flask_Test/Master_DB/_dash-component-suites/dash_iconify/dash_iconify.v0_1_2m1708445701.min.js\"></script>\n",
       "<script src=\"/Flask_Test/Master_DB/_dash-component-suites/dash/dash-renderer/build/dash_renderer.v2_11_1m1708445811.min.js\"></script>\n",
       "<script src=\"/Flask_Test/Master_DB/_dash-component-suites/dash/dcc/dash_core_components.v2_11_0m1708445811.js\"></script>\n",
       "<script src=\"/Flask_Test/Master_DB/_dash-component-suites/dash/dcc/dash_core_components-shared.v2_11_0m1708445811.js\"></script>\n",
       "<script src=\"/Flask_Test/Master_DB/_dash-component-suites/dash/html/dash_html_components.v2_0_13m1708445811.min.js\"></script>\n",
       "<script src=\"/Flask_Test/Master_DB/_dash-component-suites/dash/dash_table/bundle.v5_2_6m1708445811.js\"></script>\n",
       "<script id=\"_dash-renderer\" type=\"application/javascript\">var renderer = new DashRenderer();</script>\n",
       "</footer>\n",
       "</body>\n",
       "</html>"
      ]
     },
     "execution_count": 5,
     "metadata": {},
     "output_type": "execute_result"
    }
   ],
   "source": [
    "soup_dashboard = BeautifulSoup(dashboard.content)\n",
    "soup_dashboard"
   ]
  },
  {
   "cell_type": "markdown",
   "id": "ff9be0cc",
   "metadata": {},
   "source": [
    "# Selenium Usage"
   ]
  },
  {
   "cell_type": "code",
   "execution_count": 9,
   "id": "7e2c74be",
   "metadata": {},
   "outputs": [],
   "source": [
    "url0 = \"https://iswmpune.in/\"\n",
    "url1 = \"https://iswmpune.in/maindashboard\"\n",
    "url2 = \"https://iswmpune.in/Flask_Test/Master_DB//\""
   ]
  },
  {
   "cell_type": "code",
   "execution_count": 10,
   "id": "25711fc3",
   "metadata": {},
   "outputs": [],
   "source": [
    "# login page\n",
    "service = Service('chromedriver.exe')\n",
    "driver = webdriver.Chrome(service=service)\n",
    "driver.get(url0)\n",
    "driver.maximize_window()"
   ]
  },
  {
   "cell_type": "code",
   "execution_count": 11,
   "id": "a14f9ee6",
   "metadata": {},
   "outputs": [],
   "source": [
    "# Main Dashboard\n",
    "service = Service('chromedriver.exe')\n",
    "driver = webdriver.Chrome(service=service)\n",
    "driver.get(url1)\n",
    "driver.maximize_window()"
   ]
  },
  {
   "cell_type": "code",
   "execution_count": 12,
   "id": "03fe5511",
   "metadata": {},
   "outputs": [],
   "source": [
    "# Master Dashboard\n",
    "service = Service('chromedriver.exe')\n",
    "driver = webdriver.Chrome(service=service)\n",
    "driver.get(url2)\n",
    "driver.maximize_window()"
   ]
  },
  {
   "cell_type": "code",
   "execution_count": null,
   "id": "e913a0d3",
   "metadata": {},
   "outputs": [],
   "source": []
  }
 ],
 "metadata": {
  "kernelspec": {
   "display_name": "Python 3 (ipykernel)",
   "language": "python",
   "name": "python3"
  },
  "language_info": {
   "codemirror_mode": {
    "name": "ipython",
    "version": 3
   },
   "file_extension": ".py",
   "mimetype": "text/x-python",
   "name": "python",
   "nbconvert_exporter": "python",
   "pygments_lexer": "ipython3",
   "version": "3.11.5"
  }
 },
 "nbformat": 4,
 "nbformat_minor": 5
}
