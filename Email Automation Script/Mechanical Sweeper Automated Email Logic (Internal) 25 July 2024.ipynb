{
 "cells": [
  {
   "cell_type": "code",
   "execution_count": 1,
   "id": "e10676cb",
   "metadata": {},
   "outputs": [],
   "source": [
    "import pyodbc\n",
    "import numpy as np\n",
    "import pandas as pd"
   ]
  },
  {
   "cell_type": "code",
   "execution_count": 2,
   "id": "a34f7874",
   "metadata": {},
   "outputs": [],
   "source": [
    "# Database connection details\n",
    "db_host = '3.6.47.39'\n",
    "db_user = 'webadmin'\n",
    "db_password = 'Admin@123!@#'\n",
    "db_name = 'SWMsystem'\n",
    "\n",
    "# Create a connection string for pyodbc\n",
    "connection_string = f'DRIVER={{ODBC Driver 17 for SQL Server}};SERVER={db_host};DATABASE={db_name};UID={db_user};PWD={db_password}'\n",
    "\n",
    "# Establish the connection\n",
    "conn = pyodbc.connect(connection_string)\n",
    "cursor = conn.cursor()\n",
    "\n",
    "# Connect to the database\n",
    "try:\n",
    "    connection = pyodbc.connect(connection_string)\n",
    "except Exception as e:\n",
    "    print(f\"Error connecting to the database: {e}\")\n",
    "    exit()"
   ]
  },
  {
   "cell_type": "code",
   "execution_count": 3,
   "id": "104d261d",
   "metadata": {},
   "outputs": [
    {
     "name": "stdout",
     "output_type": "stream",
     "text": [
      "2024-07-25\n"
     ]
    }
   ],
   "source": [
    "import datetime\n",
    "\n",
    "today = datetime.date.today()\n",
    "# today = '2024-07-24'\n",
    "\n",
    "print(today) # Getting current data here"
   ]
  },
  {
   "cell_type": "code",
   "execution_count": 4,
   "id": "a39dd104",
   "metadata": {},
   "outputs": [],
   "source": [
    "cursor.execute(\"exec proc_MainDashboard_python @mode = ?, @accid = ?, @startdate= ?, @enddate=?\",\n",
    "                   (25,11401,today,today))\n",
    "\n",
    "data_frames = []\n",
    "\n",
    "while True:\n",
    "    # Check if there are any results to fetch\n",
    "    if cursor.description is not None:\n",
    "        col_names = [x[0] for x in cursor.description]\n",
    "        data = [tuple(x) for x in cursor.fetchall()]  # convert pyodbc.Row objects to tuples\n",
    "        data_frames.append(pd.DataFrame(data, columns=col_names))\n",
    "\n",
    "    # Move to the next result set\n",
    "    if not cursor.nextset():\n",
    "        break\n",
    "\n",
    "# Access each dataframe\n",
    "if data_frames:\n",
    "    data_mechsweeper = data_frames[1]  # Assuming the first DataFrame is for the 'mechanical sweeper' result set\n",
    "else:\n",
    "    data_mechsweeper = None  # If no result sets, set data_mechsweeper to None"
   ]
  },
  {
   "cell_type": "code",
   "execution_count": 5,
   "id": "dacd0b3b",
   "metadata": {},
   "outputs": [
    {
     "data": {
      "text/html": [
       "<div>\n",
       "<style scoped>\n",
       "    .dataframe tbody tr th:only-of-type {\n",
       "        vertical-align: middle;\n",
       "    }\n",
       "\n",
       "    .dataframe tbody tr th {\n",
       "        vertical-align: top;\n",
       "    }\n",
       "\n",
       "    .dataframe thead th {\n",
       "        text-align: right;\n",
       "    }\n",
       "</style>\n",
       "<table border=\"1\" class=\"dataframe\">\n",
       "  <thead>\n",
       "    <tr style=\"text-align: right;\">\n",
       "      <th></th>\n",
       "      <th>Total</th>\n",
       "      <th>Cover</th>\n",
       "      <th>UnCover</th>\n",
       "      <th>PartiallyCover</th>\n",
       "      <th>CoverPer</th>\n",
       "      <th>UnCoverPer</th>\n",
       "      <th>PCoverPer</th>\n",
       "    </tr>\n",
       "  </thead>\n",
       "  <tbody>\n",
       "    <tr>\n",
       "      <th>0</th>\n",
       "      <td>14</td>\n",
       "      <td>4</td>\n",
       "      <td>9</td>\n",
       "      <td>1</td>\n",
       "      <td>28.57%</td>\n",
       "      <td>64.29%</td>\n",
       "      <td>7.14%</td>\n",
       "    </tr>\n",
       "  </tbody>\n",
       "</table>\n",
       "</div>"
      ],
      "text/plain": [
       "  Total Cover UnCover PartiallyCover CoverPer UnCoverPer PCoverPer\n",
       "0    14     4       9              1   28.57%     64.29%     7.14%"
      ]
     },
     "execution_count": 5,
     "metadata": {},
     "output_type": "execute_result"
    }
   ],
   "source": [
    "data_mechsweeper"
   ]
  },
  {
   "cell_type": "code",
   "execution_count": 6,
   "id": "2f9c6354",
   "metadata": {},
   "outputs": [],
   "source": [
    "import smtplib\n",
    "from email.mime.multipart import MIMEMultipart\n",
    "from email.mime.text import MIMEText\n",
    "\n",
    "# Email configuration\n",
    "subject = f\"Mechanical Sweeper Data Issue Detected on {today}\"\n",
    "to_emails = [\"sweta.rai@scstechindia.com\"]\n",
    "from_email = \"info@scstechindia.com\"\n",
    "smtp_server = 'smtp.gmail.com'\n",
    "smtp_port = 587  # Typically 587 for TLS\n",
    "login = \"info@scstechindia.com\"\n",
    "password = \"Super123$%\""
   ]
  },
  {
   "cell_type": "code",
   "execution_count": 7,
   "id": "d97f374a",
   "metadata": {},
   "outputs": [],
   "source": [
    "# Function to convert DataFrame to HTML\n",
    "def dataframe_to_html(data_mechsweeper):\n",
    "    # Convert DataFrame to HTML\n",
    "    dataframe_html = data_mechsweeper.to_html(index=False, justify='left', border=1, classes='dataframe')\n",
    "    table_style = \"\"\"\n",
    "    <style type=\"text/css\">\n",
    "    table.dataframe {\n",
    "        width: 100%;\n",
    "        border-collapse: collapse;\n",
    "        border: 1px solid black;\n",
    "        font-family: Arial, sans-serif;\n",
    "        font-size: 14px;\n",
    "    }\n",
    "    table.dataframe th, table.dataframe td {\n",
    "        border: 1px solid black;\n",
    "        padding: 8px;\n",
    "        text-align: left;\n",
    "    }\n",
    "    table.dataframe th {\n",
    "        background-color: #f2f2f2;\n",
    "    }\n",
    "    </style>\n",
    "    \"\"\"\n",
    "    return f\"<html><head>{table_style}</head><body>{dataframe_html}</body></html>\""
   ]
  },
  {
   "cell_type": "code",
   "execution_count": 8,
   "id": "f0d86faf",
   "metadata": {},
   "outputs": [],
   "source": [
    "# Function to send email\n",
    "def send_email(subject, body, to_emails, from_email, smtp_server, smtp_port, login, password):\n",
    "    # Create a multipart message and set headers\n",
    "    msg = MIMEMultipart()\n",
    "    msg['From'] = from_email\n",
    "    msg['To'] = \", \".join(to_emails)\n",
    "    msg['Subject'] = subject\n",
    "\n",
    "    # Add body to email\n",
    "    msg.attach(MIMEText(body, 'html'))\n",
    "\n",
    "    # Connect to the server and send the email\n",
    "    try:\n",
    "        server = smtplib.SMTP(smtp_server, smtp_port)\n",
    "        server.starttls()\n",
    "        server.login(login, password)\n",
    "        server.sendmail(from_email, to_emails, msg.as_string())\n",
    "        server.quit()\n",
    "        print(\"Emails sent successfully!\")\n",
    "    except Exception as e:\n",
    "        print(f\"Failed to send emails: {e}\")"
   ]
  },
  {
   "cell_type": "code",
   "execution_count": 9,
   "id": "d32c8331",
   "metadata": {},
   "outputs": [
    {
     "name": "stdout",
     "output_type": "stream",
     "text": [
      "No issues in data.\n"
     ]
    }
   ],
   "source": [
    "# Check for zero values in specified columns\n",
    "if (data_mechsweeper[['Cover', 'UnCover', 'PartiallyCover']] == 0).any(axis=None):\n",
    "    html_table = dataframe_to_html(data_mechsweeper)\n",
    "    email_body = f\"\"\"\n",
    "    <html>\n",
    "    <body>\n",
    "    <p>Dear Recipient,</p>\n",
    "    <p>Found Data Issue in Mechanical Sweeper: One or more of the columns Cover, UnCover or PartiallyCover has a value of 0. Below are the details:</p>{html_table}\n",
    "    <p>Best regards,<br>SCS Team</p>\n",
    "    <p style=\"color: gray; font-size: 12px;\">This is an auto-generated email, please do not reply.</p>\n",
    "    </body>\n",
    "    </html>\n",
    "    \"\"\"\n",
    "    send_email(subject, email_body, to_emails, from_email, smtp_server, smtp_port, login, password)\n",
    "else:\n",
    "    print(\"No issues in data.\")"
   ]
  }
 ],
 "metadata": {
  "kernelspec": {
   "display_name": "Python 3 (ipykernel)",
   "language": "python",
   "name": "python3"
  },
  "language_info": {
   "codemirror_mode": {
    "name": "ipython",
    "version": 3
   },
   "file_extension": ".py",
   "mimetype": "text/x-python",
   "name": "python",
   "nbconvert_exporter": "python",
   "pygments_lexer": "ipython3",
   "version": "3.11.5"
  }
 },
 "nbformat": 4,
 "nbformat_minor": 5
}
