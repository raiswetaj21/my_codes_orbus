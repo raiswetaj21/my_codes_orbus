{
 "cells": [
  {
   "cell_type": "code",
   "execution_count": 8,
   "id": "b8bbacca",
   "metadata": {},
   "outputs": [
    {
     "name": "stdout",
     "output_type": "stream",
     "text": [
      "Requirement already satisfied: ffmpeg-python in c:\\users\\adity\\anaconda3\\lib\\site-packages (0.2.0)\n",
      "Requirement already satisfied: future in c:\\users\\adity\\anaconda3\\lib\\site-packages (from ffmpeg-python) (0.18.3)\n"
     ]
    }
   ],
   "source": [
    "!pip install ffmpeg-python"
   ]
  },
  {
   "cell_type": "code",
   "execution_count": 1,
   "id": "da63bcbc",
   "metadata": {},
   "outputs": [
    {
     "name": "stdout",
     "output_type": "stream",
     "text": [
      "Processed audio saved as: processed_audio.wav\n"
     ]
    }
   ],
   "source": [
    "import ffmpeg\n",
    "\n",
    "# Input and output audio file paths\n",
    "input_file = \"20231105-104833_7304026821_902_MFB-F202314357.wav\"\n",
    "output_file = \"processed_audio.wav\"\n",
    "\n",
    "# Remove silence using FFmpeg\n",
    "ffmpeg.input(input_file).output(output_file, af=\"silenceremove=1:0:-50dB\").run()\n",
    "print(f\"Processed audio saved as: {output_file}\")"
   ]
  },
  {
   "cell_type": "code",
   "execution_count": null,
   "id": "31131b23",
   "metadata": {},
   "outputs": [],
   "source": [
    "import ffmpeg\n",
    "\n",
    "# Input and output audio file paths\n",
    "input_file = \"20231105-104833_7304026821_902_MFB-F202314357.wav\"\n",
    "output_file = \"processed_audio.wav\"\n",
    "\n",
    "# Remove noise using FFmpeg\n",
    "ffmpeg.input(input_file).output(output_file, af=\"highpass=f=200, lowpass=f=3000\").run()\n",
    "print(f\"Processed audio saved as: {output_file}\")"
   ]
  },
  {
   "cell_type": "code",
   "execution_count": 5,
   "id": "b883b858",
   "metadata": {},
   "outputs": [
    {
     "name": "stdout",
     "output_type": "stream",
     "text": [
      "Collecting openai-whisper\n",
      "  Using cached openai_whisper-20240930-py3-none-any.whl\n",
      "Requirement already satisfied: numba in c:\\users\\adity\\anaconda3\\lib\\site-packages (from openai-whisper) (0.58.0)\n",
      "Requirement already satisfied: numpy in c:\\users\\adity\\anaconda3\\lib\\site-packages (from openai-whisper) (1.25.2)\n",
      "Requirement already satisfied: torch in c:\\users\\adity\\anaconda3\\lib\\site-packages (from openai-whisper) (2.5.1+cpu)\n",
      "Requirement already satisfied: tqdm in c:\\users\\adity\\anaconda3\\lib\\site-packages (from openai-whisper) (4.66.4)\n",
      "Requirement already satisfied: more-itertools in c:\\users\\adity\\anaconda3\\lib\\site-packages (from openai-whisper) (8.12.0)\n",
      "Collecting tiktoken (from openai-whisper)\n",
      "  Obtaining dependency information for tiktoken from https://files.pythonhosted.org/packages/1e/86/eea2309dc258fb86c7d9b10db536434fc16420feaa3b6113df18b23db7c2/tiktoken-0.8.0-cp311-cp311-win_amd64.whl.metadata\n",
      "  Using cached tiktoken-0.8.0-cp311-cp311-win_amd64.whl.metadata (6.8 kB)\n",
      "Requirement already satisfied: llvmlite<0.42,>=0.41.0dev0 in c:\\users\\adity\\anaconda3\\lib\\site-packages (from numba->openai-whisper) (0.41.0)\n",
      "Requirement already satisfied: regex>=2022.1.18 in c:\\users\\adity\\anaconda3\\lib\\site-packages (from tiktoken->openai-whisper) (2023.10.3)\n",
      "Requirement already satisfied: requests>=2.26.0 in c:\\users\\adity\\anaconda3\\lib\\site-packages (from tiktoken->openai-whisper) (2.32.3)\n",
      "Requirement already satisfied: filelock in c:\\users\\adity\\anaconda3\\lib\\site-packages (from torch->openai-whisper) (3.9.0)\n",
      "Requirement already satisfied: typing-extensions>=4.8.0 in c:\\users\\adity\\anaconda3\\lib\\site-packages (from torch->openai-whisper) (4.10.0)\n",
      "Requirement already satisfied: networkx in c:\\users\\adity\\anaconda3\\lib\\site-packages (from torch->openai-whisper) (3.1)\n",
      "Requirement already satisfied: jinja2 in c:\\users\\adity\\anaconda3\\lib\\site-packages (from torch->openai-whisper) (3.1.2)\n",
      "Requirement already satisfied: fsspec in c:\\users\\adity\\anaconda3\\lib\\site-packages (from torch->openai-whisper) (2024.5.0)\n",
      "Requirement already satisfied: sympy==1.13.1 in c:\\users\\adity\\anaconda3\\lib\\site-packages (from torch->openai-whisper) (1.13.1)\n",
      "Requirement already satisfied: mpmath<1.4,>=1.1.0 in c:\\users\\adity\\anaconda3\\lib\\site-packages (from sympy==1.13.1->torch->openai-whisper) (1.3.0)\n",
      "Requirement already satisfied: colorama in c:\\users\\adity\\anaconda3\\lib\\site-packages (from tqdm->openai-whisper) (0.4.6)\n",
      "Requirement already satisfied: charset-normalizer<4,>=2 in c:\\users\\adity\\anaconda3\\lib\\site-packages (from requests>=2.26.0->tiktoken->openai-whisper) (2.0.4)\n",
      "Requirement already satisfied: idna<4,>=2.5 in c:\\users\\adity\\anaconda3\\lib\\site-packages (from requests>=2.26.0->tiktoken->openai-whisper) (3.4)\n",
      "Requirement already satisfied: urllib3<3,>=1.21.1 in c:\\users\\adity\\anaconda3\\lib\\site-packages (from requests>=2.26.0->tiktoken->openai-whisper) (2.2.3)\n",
      "Requirement already satisfied: certifi>=2017.4.17 in c:\\users\\adity\\anaconda3\\lib\\site-packages (from requests>=2.26.0->tiktoken->openai-whisper) (2024.6.2)\n",
      "Requirement already satisfied: MarkupSafe>=2.0 in c:\\users\\adity\\anaconda3\\lib\\site-packages (from jinja2->torch->openai-whisper) (2.1.1)\n",
      "Using cached tiktoken-0.8.0-cp311-cp311-win_amd64.whl (884 kB)\n",
      "Installing collected packages: tiktoken, openai-whisper\n",
      "Successfully installed openai-whisper-20240930 tiktoken-0.8.0\n",
      "Looking in indexes: https://download.pytorch.org/whl/cpu\n",
      "Requirement already satisfied: torch in c:\\users\\adity\\anaconda3\\lib\\site-packages (2.5.1+cpu)\n",
      "Requirement already satisfied: torchvision in c:\\users\\adity\\anaconda3\\lib\\site-packages (0.20.1+cpu)\n",
      "Requirement already satisfied: torchaudio in c:\\users\\adity\\anaconda3\\lib\\site-packages (2.5.1+cpu)\n",
      "Requirement already satisfied: filelock in c:\\users\\adity\\anaconda3\\lib\\site-packages (from torch) (3.9.0)\n",
      "Requirement already satisfied: typing-extensions>=4.8.0 in c:\\users\\adity\\anaconda3\\lib\\site-packages (from torch) (4.10.0)\n",
      "Requirement already satisfied: networkx in c:\\users\\adity\\anaconda3\\lib\\site-packages (from torch) (3.1)\n",
      "Requirement already satisfied: jinja2 in c:\\users\\adity\\anaconda3\\lib\\site-packages (from torch) (3.1.2)\n",
      "Requirement already satisfied: fsspec in c:\\users\\adity\\anaconda3\\lib\\site-packages (from torch) (2024.5.0)\n",
      "Requirement already satisfied: sympy==1.13.1 in c:\\users\\adity\\anaconda3\\lib\\site-packages (from torch) (1.13.1)\n",
      "Requirement already satisfied: mpmath<1.4,>=1.1.0 in c:\\users\\adity\\anaconda3\\lib\\site-packages (from sympy==1.13.1->torch) (1.3.0)\n",
      "Requirement already satisfied: numpy in c:\\users\\adity\\anaconda3\\lib\\site-packages (from torchvision) (1.25.2)\n",
      "Requirement already satisfied: pillow!=8.3.*,>=5.3.0 in c:\\users\\adity\\anaconda3\\lib\\site-packages (from torchvision) (10.0.1)\n",
      "Requirement already satisfied: MarkupSafe>=2.0 in c:\\users\\adity\\anaconda3\\lib\\site-packages (from jinja2->torch) (2.1.1)\n"
     ]
    }
   ],
   "source": [
    "!pip install openai-whisper\n",
    "!pip install torch torchvision torchaudio --index-url https://download.pytorch.org/whl/cpu"
   ]
  },
  {
   "cell_type": "code",
   "execution_count": 6,
   "id": "c6cb9674",
   "metadata": {},
   "outputs": [
    {
     "name": "stdout",
     "output_type": "stream",
     "text": [
      "2.5.1+cpu\n",
      "False\n"
     ]
    }
   ],
   "source": [
    "import torch\n",
    "print(torch.__version__)\n",
    "print(torch.cuda.is_available())  # Should return True if a compatible GPU is available"
   ]
  },
  {
   "cell_type": "code",
   "execution_count": 9,
   "id": "30c2d023",
   "metadata": {},
   "outputs": [
    {
     "name": "stdout",
     "output_type": "stream",
     "text": [
      " यहीं पारेगे तो। पारेगे पूला. आइका ना, इक्वे गोरेगा वेशुरूम पूलते हैं. ते ते अपला ट्रेंजे जी वर्ची वाया यहा से ना वायरिंग ते चे पर जाडा ला आग लागी रहे हैं. कष्या मदी आग लग लिए? अपला जाड है, ते ट्रेंजे वर्ची वेशुरूम पूला आग लागी रहे हैं. अवरेड वायर? आप वायर पूला जाडा ला जाड जाडा हैं. जाडा पारेगे पूला जाडा जाडा हैं. ते जाडा पूला जाडा पूला जाडा हैं. आप रेल्वेट राइक्स चाब रहा हैं? रेल्वेट राइक्स चाब रहा हैं, ते जाडा रहा हैं. और जाडा पूला जाडा रहा हैं. अपने आग जाडा रहा हैं. तेजाडा पूला जाडा रहा हैं. आप रेल्वेट राइक्स चाब रहा हैं. आपके पर पराजादा पराजादा पर पराजादा पर पर पर पर पर पर पर पर पर पर पर पर पर पर पर पर पर पर पर पर पर पर पर पर पर पर पर पर पर पर पर पर पर पर पर पर पर पर पर पर पर पर पर पर पर पर पर पर पर पर पर पर पर पर पर पर पर पर पर प हालो आ अरेम्हे लका उठ्रापded अवल Schrittी पहीं पहीं मत्री आफ regen jogosे वन्केत यारे APP और याराज भाजा मूं ожид्गे वन्कर Philip ता मुश्क boil ? आपके अरेम्ही ओथ्रठेर अयारे में आल्रासे वकरे�� एरीसं � hungry अरेम्ही ओत्रfficial ओत्रीम को耶त teriaworks বেবববববববববববববববববববববববববববববববববববববববববববববববববববববববববববববববববববববববববববববববববববববববববববববববববববববববববববব� বেববববববববববববববববববববববববববববববববববববববববববববববববববববববববববববববববববববববববববববববববববববববববববববববববববববববববববব� বেববববববববববববববববববববববববববববববববববববববববববববববববববববববববববববববববববববববববববববববববববববববববববববববববববববববববববব� বু়র্র্রু�率ূ ব� unwillingর�atie��রুর বো্রুরূ archety ব়র্রর্ offen��র্রুর্র ����ো্র্র্র dot ব্র্র্র্র্র বোর্র্র বোরো বુ�止્�ASE 730 730 40 268 21 고�şa ефС বেবেববেববেবববেবববববববববববববববববববববববববববববববববববববববববববববববববববববববববববববববববববববববববববববববববববববববববববববব�বব� AS\n"
     ]
    }
   ],
   "source": [
    "import whisper\n",
    "\n",
    "# Load the model on the CPU explicitly\n",
    "model = whisper.load_model(\"medium\", device=\"cpu\")  # Force CPU usage\n",
    "\n",
    "# Path to the audio file\n",
    "audio_file = \"processed_audio.wav\"\n",
    "\n",
    "# Transcribe the audio\n",
    "result = model.transcribe(audio_file)\n",
    "\n",
    "# Print transcription\n",
    "print(\"Transcription:\")\n",
    "print(result[\"text\"])"
   ]
  },
  {
   "cell_type": "code",
   "execution_count": 13,
   "id": "bff996e2",
   "metadata": {},
   "outputs": [
    {
     "name": "stdout",
     "output_type": "stream",
     "text": [
      "Transcription:\n",
      " यहीं पारेगे तो। पारेगे पूला. आइका ना, इक्वे गोरेगा वेशुरूम पूलते हैं. ते ते अपला ट्रेंजे जी वर्ची वाया यहा से ना वायरिंग ते चे पर जाडा ला आग लागी रहे हैं. कष्या मदी आग लग लिए? अपला जाड है, ते ट्रेंजे वर्ची वेशुरूम पूला आग लागी रहे हैं. अवरेड वायर? आप वायर पूला जाडा ला जाड जाडा हैं. जाडा पारेगे पूला जाडा जाडा हैं. ते जाडा पूला जाडा पूला जाडा हैं. आप रेल्वेट राइक्स चाब रहा हैं? रेल्वेट राइक्स चाब रहा हैं, ते जाडा रहा हैं. और जाडा पूला जाडा रहा हैं. अपने आग जाडा रहा हैं. तेजाडा पूला जाडा रहा हैं. आप रेल्वेट राइक्स चाब रहा हैं. आपके पर पराजादा पराजादा पर पराजादा पर पर पर पर पर पर पर पर पर पर पर पर पर पर पर पर पर पर पर पर पर पर पर पर पर पर पर पर पर पर पर पर पर पर पर पर पर पर पर पर पर पर पर पर पर पर पर पर पर पर पर पर पर पर पर पर पर पर पर प पर पर जालो. आग्रेमारे के पाथ से हैं。 इसनी ऊन ही शान्द silent. prince's नहीं अर्थस byłoतारिव्रूरin तारिव्रूर বেবববববববববববববববববববববববববববববববববববববববববববববববববববববববববববববববববববববববববববববববববববববববববববববববববববববববববববব� বেববববববববববববববববববববববববববববববববববববববববববববববববববববববববববববববববববববববববববববববববববববববববববববববববববববববববববব� বেববববববববববববববববববববববববববববববববববববববববববববববববববববববববববববববববববববববববববববববববববববববববববববববববববববববববববব� বেবববববববববব বব� visible 3 বেববববব sesame বববববববব� repeat র্র্ drill বেরেরেরেরেরেরেরেরেরেরেরেরেরেরেরেরেরেরেরেরেরেরেরেরেরেরেরেরেরেরেরেরেরেরেরেরেরেরেরেরেরেরেরের বর্রেরে ব੍রেরেরের଴�üşের ব� le\n"
     ]
    }
   ],
   "source": [
    "result = model.transcribe(audio_file, language=\"mr\")  # Change \"hi\" for Hindi and \"mr\" for Marathi\n",
    "print(\"Transcription:\")\n",
    "print(result[\"text\"])"
   ]
  },
  {
   "cell_type": "code",
   "execution_count": 14,
   "id": "9e1756aa",
   "metadata": {},
   "outputs": [
    {
     "name": "stdout",
     "output_type": "stream",
     "text": [
      "Transcription:\n",
      " यहीं पारे गेटो। पारे बाला गेटो। पारे बाला बूला। हाँ आइका ना इते इकन गोरेवा वेशूरूम बूलते हैं। बूला। ते अपला जे ट्रेंजे जी वर्ची वाया यह है ना वायरिंग ते चे पर जाडा ला आग लागी रहे हैं। कषा मदी आग लाग लिए हैं। अपला जाड हैं। ते ट्रेंजे वर्ची वर्ची वर्ची वर्ची लाग रहे हैं। अपला जाड रहे हैं। अपला जाड रहे हैं। अपला जाड रहे हैं। अपला जाड रहे हैं। अपला जाड रहे हैं। अपला जाड रहे हैं। अपला जाड रहे हैं। अपला जाड रहे हैं। अपला जाड रहे हैं। अपला जाड रहे हैं। अपला जाड रहे हैं। अपला जाड रहे हैं। अपला जाड रहे हैं। अपला जाड रहे हैं। अपला जाड रहे हैं। अपला जाड रहे हैं। अपला जाड रहे हैं। अपला जाड रहे हैं। अपला जाड रहे हैं। अपला जाड रहे हैं। अपला जाड रहे हैं। जाद जाद जाद जाद जाद जाद जाद जाद जाद जाद जाद जाद जाद जाद जाद जाद जाद जाद जाद जाद जाद जाद जाद जाद जाद जाद जाद जाद जाद जाद जाद जाद जाद जाद जाद जाद जाद जाद जाद जाद जाद जाद जाद जाद जा गोर he is hire in Uddiyognagar जे वो बर<|en|><|ta|> darling जे वो बर düşün् श्रीख zip स्र्छ अजे वो बरना wäre गछा czas रुड それ belangणारी। दाएVer- । हि Erfahrung- स्र worried । ये पार्टिकार पार्टिकार पार्टिकार पार्टिकार पार्टिकार पार्टिकार पार्टिकार पार्टिकार पार्टिकार पार्टिकार पार्टिकार पार्टिकार पार्टिकार पार्टिकार पार्टिकार पार्टिकार पार्टिकार पार्टिकार पार्टिकार पार्टिकार पार्टिकार पार्टिकार पार्टिकार पार्टिकार पार्टिकार पार्टिकार पार्टिकार पार्टिकार पार्टिकार पार्टिकार पार्टिकार पार्टिकार पार्टिकार पार्टिकार पार्टिकार पार्टिकार पार्टिकार पार्टिकार पार्टिकार पार्टिकार � पार्टिकार पार्टिकार पार्टिकार पार्टिकार पार्टिकार पार्टिकार पार्टिकार पार्टिकार पार्टिकार पार्टिकार पार्टिकार पार्टिकार पार्टिकार पार्टिकार पार्टिकार पार्टिकार पार्टिकार पार्टिकार पार्टिकार पार्टिकार � अबी अच्छीली वॉल है ना वो 12 से 13 फीट का है अब वो चड़के देखना पड़ेगा अच्छील आप तो अपने पास मत जाओ अगर इलेट्री के व orchestra पार हुआ रहूँगा तो तुमको भी शॉक लगता है ये बैंकृत हुल जो मैं बतरूँँ आपको नाम बोलो ना क्�लं बस पह्नव नहीं रान्क पर ब ल 135 पतर अश्ळकील आपको रहे हुए पेसींग हूँ隊 रवाज 커�ं हिल् 채 सत्धदि है МУक्षम बार्थ � 2016\n"
     ]
    }
   ],
   "source": [
    "result = model.transcribe(audio_file, language=\"hi\")  # Change \"hi\" for Hindi and \"mr\" for Marathi\n",
    "print(\"Transcription:\")\n",
    "print(result[\"text\"])"
   ]
  },
  {
   "cell_type": "code",
   "execution_count": 15,
   "id": "39f0b66c",
   "metadata": {},
   "outputs": [
    {
     "name": "stdout",
     "output_type": "stream",
     "text": [
      "Transcription text is saved to 'transcription.txt' filename\n"
     ]
    }
   ],
   "source": [
    "with open(\"transcription.txt\", \"w\", encoding=\"utf-8\") as f:\n",
    "    f.write(result[\"text\"])\n",
    "print(\"Transcription text is saved to 'transcription.txt' filename\")"
   ]
  },
  {
   "cell_type": "code",
   "execution_count": 10,
   "id": "7659d39e",
   "metadata": {
    "scrolled": false
   },
   "outputs": [
    {
     "name": "stdout",
     "output_type": "stream",
     "text": [
      "Collecting vosk\n",
      "  Obtaining dependency information for vosk from https://files.pythonhosted.org/packages/c0/4c/deb0861f7da9696f8a255f1731bb73e9412cca29c4b3888a3fcb2a930a59/vosk-0.3.45-py3-none-win_amd64.whl.metadata\n",
      "  Downloading vosk-0.3.45-py3-none-win_amd64.whl.metadata (1.8 kB)\n",
      "Requirement already satisfied: cffi>=1.0 in c:\\users\\adity\\anaconda3\\lib\\site-packages (from vosk) (1.15.1)\n",
      "Requirement already satisfied: requests in c:\\users\\adity\\anaconda3\\lib\\site-packages (from vosk) (2.32.3)\n",
      "Collecting srt (from vosk)\n",
      "  Downloading srt-3.5.3.tar.gz (28 kB)\n",
      "  Preparing metadata (setup.py): started\n",
      "  Preparing metadata (setup.py): finished with status 'done'\n",
      "Requirement already satisfied: tqdm in c:\\users\\adity\\anaconda3\\lib\\site-packages (from vosk) (4.66.4)\n",
      "Collecting websockets (from vosk)\n",
      "  Obtaining dependency information for websockets from https://files.pythonhosted.org/packages/bc/ef/2d81679acbe7057ffe2308d422f744497b52009ea8bab34b6d74a2657d1d/websockets-14.1-cp311-cp311-win_amd64.whl.metadata\n",
      "  Downloading websockets-14.1-cp311-cp311-win_amd64.whl.metadata (6.9 kB)\n",
      "Requirement already satisfied: pycparser in c:\\users\\adity\\anaconda3\\lib\\site-packages (from cffi>=1.0->vosk) (2.21)\n",
      "Requirement already satisfied: charset-normalizer<4,>=2 in c:\\users\\adity\\anaconda3\\lib\\site-packages (from requests->vosk) (2.0.4)\n",
      "Requirement already satisfied: idna<4,>=2.5 in c:\\users\\adity\\anaconda3\\lib\\site-packages (from requests->vosk) (3.4)\n",
      "Requirement already satisfied: urllib3<3,>=1.21.1 in c:\\users\\adity\\anaconda3\\lib\\site-packages (from requests->vosk) (2.2.3)\n",
      "Requirement already satisfied: certifi>=2017.4.17 in c:\\users\\adity\\anaconda3\\lib\\site-packages (from requests->vosk) (2024.6.2)\n",
      "Requirement already satisfied: colorama in c:\\users\\adity\\anaconda3\\lib\\site-packages (from tqdm->vosk) (0.4.6)\n",
      "Downloading vosk-0.3.45-py3-none-win_amd64.whl (14.0 MB)\n",
      "   ---------------------------------------- 0.0/14.0 MB ? eta -:--:--\n",
      "   ---------------------------------------- 0.1/14.0 MB 4.0 MB/s eta 0:00:04\n",
      "    --------------------------------------- 0.3/14.0 MB 3.7 MB/s eta 0:00:04\n",
      "   - -------------------------------------- 0.4/14.0 MB 3.2 MB/s eta 0:00:05\n",
      "   - -------------------------------------- 0.5/14.0 MB 3.1 MB/s eta 0:00:05\n",
      "   -- ------------------------------------- 0.7/14.0 MB 3.2 MB/s eta 0:00:05\n",
      "   -- ------------------------------------- 0.9/14.0 MB 3.2 MB/s eta 0:00:05\n",
      "   -- ------------------------------------- 1.0/14.0 MB 3.2 MB/s eta 0:00:05\n",
      "   --- ------------------------------------ 1.1/14.0 MB 3.1 MB/s eta 0:00:05\n",
      "   --- ------------------------------------ 1.2/14.0 MB 3.1 MB/s eta 0:00:05\n",
      "   --- ------------------------------------ 1.3/14.0 MB 2.9 MB/s eta 0:00:05\n",
      "   ---- ----------------------------------- 1.5/14.0 MB 2.9 MB/s eta 0:00:05\n",
      "   ---- ----------------------------------- 1.6/14.0 MB 2.9 MB/s eta 0:00:05\n",
      "   ---- ----------------------------------- 1.7/14.0 MB 2.9 MB/s eta 0:00:05\n",
      "   ----- ---------------------------------- 1.8/14.0 MB 2.8 MB/s eta 0:00:05\n",
      "   ----- ---------------------------------- 2.0/14.0 MB 2.8 MB/s eta 0:00:05\n",
      "   ----- ---------------------------------- 2.1/14.0 MB 2.8 MB/s eta 0:00:05\n",
      "   ------ --------------------------------- 2.2/14.0 MB 2.8 MB/s eta 0:00:05\n",
      "   ------ --------------------------------- 2.3/14.0 MB 2.8 MB/s eta 0:00:05\n",
      "   ------ --------------------------------- 2.4/14.0 MB 2.7 MB/s eta 0:00:05\n",
      "   ------- -------------------------------- 2.5/14.0 MB 2.7 MB/s eta 0:00:05\n",
      "   ------- -------------------------------- 2.6/14.0 MB 2.7 MB/s eta 0:00:05\n",
      "   ------- -------------------------------- 2.7/14.0 MB 2.7 MB/s eta 0:00:05\n",
      "   -------- ------------------------------- 2.9/14.0 MB 2.7 MB/s eta 0:00:05\n",
      "   -------- ------------------------------- 3.0/14.0 MB 2.7 MB/s eta 0:00:05\n",
      "   --------- ------------------------------ 3.2/14.0 MB 2.7 MB/s eta 0:00:04\n",
      "   --------- ------------------------------ 3.3/14.0 MB 2.7 MB/s eta 0:00:04\n",
      "   --------- ------------------------------ 3.5/14.0 MB 2.8 MB/s eta 0:00:04\n",
      "   ---------- ----------------------------- 3.6/14.0 MB 2.7 MB/s eta 0:00:04\n",
      "   ---------- ----------------------------- 3.7/14.0 MB 2.7 MB/s eta 0:00:04\n",
      "   ---------- ----------------------------- 3.7/14.0 MB 2.7 MB/s eta 0:00:04\n",
      "   ----------- ---------------------------- 3.9/14.0 MB 2.7 MB/s eta 0:00:04\n",
      "   ----------- ---------------------------- 4.0/14.0 MB 2.6 MB/s eta 0:00:04\n",
      "   ----------- ---------------------------- 4.1/14.0 MB 2.7 MB/s eta 0:00:04\n",
      "   ------------ --------------------------- 4.3/14.0 MB 2.7 MB/s eta 0:00:04\n",
      "   ------------- -------------------------- 4.6/14.0 MB 2.8 MB/s eta 0:00:04\n",
      "   ------------- -------------------------- 4.8/14.0 MB 2.9 MB/s eta 0:00:04\n",
      "   -------------- ------------------------- 5.1/14.0 MB 2.9 MB/s eta 0:00:04\n",
      "   --------------- ------------------------ 5.4/14.0 MB 3.0 MB/s eta 0:00:03\n",
      "   ---------------- ----------------------- 5.7/14.0 MB 3.1 MB/s eta 0:00:03\n",
      "   ----------------- ---------------------- 6.0/14.0 MB 3.2 MB/s eta 0:00:03\n",
      "   ----------------- ---------------------- 6.3/14.0 MB 3.3 MB/s eta 0:00:03\n",
      "   ------------------ --------------------- 6.6/14.0 MB 3.3 MB/s eta 0:00:03\n",
      "   ------------------- -------------------- 6.9/14.0 MB 3.4 MB/s eta 0:00:03\n",
      "   -------------------- ------------------- 7.1/14.0 MB 3.4 MB/s eta 0:00:03\n",
      "   --------------------- ------------------ 7.4/14.0 MB 3.5 MB/s eta 0:00:02\n",
      "   --------------------- ------------------ 7.5/14.0 MB 3.4 MB/s eta 0:00:02\n",
      "   --------------------- ------------------ 7.7/14.0 MB 3.5 MB/s eta 0:00:02\n",
      "   ---------------------- ----------------- 7.9/14.0 MB 3.5 MB/s eta 0:00:02\n",
      "   ----------------------- ---------------- 8.1/14.0 MB 3.5 MB/s eta 0:00:02\n",
      "   ------------------------ --------------- 8.4/14.0 MB 3.5 MB/s eta 0:00:02\n",
      "   ------------------------ --------------- 8.6/14.0 MB 3.6 MB/s eta 0:00:02\n",
      "   ------------------------- -------------- 8.9/14.0 MB 3.6 MB/s eta 0:00:02\n",
      "   -------------------------- ------------- 9.1/14.0 MB 3.6 MB/s eta 0:00:02\n",
      "   -------------------------- ------------- 9.4/14.0 MB 3.7 MB/s eta 0:00:02\n",
      "   --------------------------- ------------ 9.6/14.0 MB 3.7 MB/s eta 0:00:02\n",
      "   --------------------------- ------------ 9.8/14.0 MB 3.7 MB/s eta 0:00:02\n",
      "   ---------------------------- ----------- 10.0/14.0 MB 3.7 MB/s eta 0:00:02\n",
      "   ----------------------------- ---------- 10.2/14.0 MB 3.7 MB/s eta 0:00:02\n",
      "   ----------------------------- ---------- 10.5/14.0 MB 3.8 MB/s eta 0:00:01\n",
      "   ------------------------------ --------- 10.8/14.0 MB 3.8 MB/s eta 0:00:01\n",
      "   ------------------------------- -------- 11.0/14.0 MB 3.9 MB/s eta 0:00:01\n",
      "   -------------------------------- ------- 11.2/14.0 MB 3.9 MB/s eta 0:00:01\n",
      "   -------------------------------- ------- 11.5/14.0 MB 4.0 MB/s eta 0:00:01\n",
      "   --------------------------------- ------ 11.8/14.0 MB 4.1 MB/s eta 0:00:01\n",
      "   ---------------------------------- ----- 12.0/14.0 MB 4.2 MB/s eta 0:00:01\n",
      "   ----------------------------------- ---- 12.3/14.0 MB 4.3 MB/s eta 0:00:01\n",
      "   ----------------------------------- ---- 12.5/14.0 MB 4.4 MB/s eta 0:00:01\n",
      "   ------------------------------------ --- 12.7/14.0 MB 4.4 MB/s eta 0:00:01\n",
      "   ------------------------------------- -- 13.0/14.0 MB 4.6 MB/s eta 0:00:01\n",
      "   ------------------------------------- -- 13.2/14.0 MB 4.6 MB/s eta 0:00:01\n",
      "   -------------------------------------- - 13.4/14.0 MB 4.7 MB/s eta 0:00:01\n",
      "   -------------------------------------- - 13.6/14.0 MB 4.7 MB/s eta 0:00:01\n",
      "   ---------------------------------------  13.9/14.0 MB 4.9 MB/s eta 0:00:01\n",
      "   ---------------------------------------  14.0/14.0 MB 4.9 MB/s eta 0:00:01\n",
      "   ---------------------------------------- 14.0/14.0 MB 4.9 MB/s eta 0:00:00\n",
      "Downloading websockets-14.1-cp311-cp311-win_amd64.whl (163 kB)\n",
      "   ---------------------------------------- 0.0/163.3 kB ? eta -:--:--\n",
      "   ---------------------------------------- 163.3/163.3 kB 4.9 MB/s eta 0:00:00\n",
      "Building wheels for collected packages: srt\n",
      "  Building wheel for srt (setup.py): started\n",
      "  Building wheel for srt (setup.py): finished with status 'done'\n",
      "  Created wheel for srt: filename=srt-3.5.3-py3-none-any.whl size=22557 sha256=02990cb4dda0a62c995bde535dd5273aaa55141c7e3fd7969fc15aaab932551c\n",
      "  Stored in directory: c:\\users\\adity\\appdata\\local\\pip\\cache\\wheels\\1f\\43\\f1\\23ee9119497fcb57d9f7046fbf34c6d9027c46a1fa7824cf08\n",
      "Successfully built srt\n",
      "Installing collected packages: websockets, srt, vosk\n",
      "Successfully installed srt-3.5.3 vosk-0.3.45 websockets-14.1\n"
     ]
    }
   ],
   "source": [
    "!pip install vosk"
   ]
  },
  {
   "cell_type": "code",
   "execution_count": 11,
   "id": "0778c7cc",
   "metadata": {},
   "outputs": [
    {
     "ename": "Exception",
     "evalue": "Failed to create a model",
     "output_type": "error",
     "traceback": [
      "\u001b[1;31m---------------------------------------------------------------------------\u001b[0m",
      "\u001b[1;31mException\u001b[0m                                 Traceback (most recent call last)",
      "Cell \u001b[1;32mIn[11], line 5\u001b[0m\n\u001b[0;32m      2\u001b[0m \u001b[38;5;28;01mimport\u001b[39;00m \u001b[38;5;21;01mwave\u001b[39;00m\n\u001b[0;32m      4\u001b[0m wf \u001b[38;5;241m=\u001b[39m wave\u001b[38;5;241m.\u001b[39mopen(\u001b[38;5;124m\"\u001b[39m\u001b[38;5;124mprocessed_audio.wav\u001b[39m\u001b[38;5;124m\"\u001b[39m, \u001b[38;5;124m\"\u001b[39m\u001b[38;5;124mrb\u001b[39m\u001b[38;5;124m\"\u001b[39m)\n\u001b[1;32m----> 5\u001b[0m model \u001b[38;5;241m=\u001b[39m Model(\u001b[38;5;124m\"\u001b[39m\u001b[38;5;124mmodel\u001b[39m\u001b[38;5;124m\"\u001b[39m)\n\u001b[0;32m      6\u001b[0m rec \u001b[38;5;241m=\u001b[39m KaldiRecognizer(model, wf\u001b[38;5;241m.\u001b[39mgetframerate())\n\u001b[0;32m      8\u001b[0m \u001b[38;5;28;01mwhile\u001b[39;00m \u001b[38;5;28;01mTrue\u001b[39;00m:\n",
      "File \u001b[1;32m~\\anaconda3\\Lib\\site-packages\\vosk\\__init__.py:57\u001b[0m, in \u001b[0;36mModel.__init__\u001b[1;34m(self, model_path, model_name, lang)\u001b[0m\n\u001b[0;32m     55\u001b[0m     \u001b[38;5;28mself\u001b[39m\u001b[38;5;241m.\u001b[39m_handle \u001b[38;5;241m=\u001b[39m _c\u001b[38;5;241m.\u001b[39mvosk_model_new(model_path\u001b[38;5;241m.\u001b[39mencode(\u001b[38;5;124m\"\u001b[39m\u001b[38;5;124mutf-8\u001b[39m\u001b[38;5;124m\"\u001b[39m))\n\u001b[0;32m     56\u001b[0m \u001b[38;5;28;01mif\u001b[39;00m \u001b[38;5;28mself\u001b[39m\u001b[38;5;241m.\u001b[39m_handle \u001b[38;5;241m==\u001b[39m _ffi\u001b[38;5;241m.\u001b[39mNULL:\n\u001b[1;32m---> 57\u001b[0m     \u001b[38;5;28;01mraise\u001b[39;00m \u001b[38;5;167;01mException\u001b[39;00m(\u001b[38;5;124m\"\u001b[39m\u001b[38;5;124mFailed to create a model\u001b[39m\u001b[38;5;124m\"\u001b[39m)\n",
      "\u001b[1;31mException\u001b[0m: Failed to create a model"
     ]
    }
   ],
   "source": [
    "from vosk import Model, KaldiRecognizer\n",
    "import wave\n",
    "\n",
    "wf = wave.open(\"processed_audio.wav\", \"rb\")\n",
    "vosk_model = Model(\"model\")\n",
    "rec = KaldiRecognizer(vosk_model, wf.getframerate())\n",
    "\n",
    "while True:\n",
    "    data = wf.readframes(4000)\n",
    "    if len(data) == 0:\n",
    "        break\n",
    "    if rec.AcceptWaveform(data):\n",
    "        print(rec.Result())"
   ]
  },
  {
   "cell_type": "code",
   "execution_count": null,
   "id": "f95681d8",
   "metadata": {},
   "outputs": [],
   "source": []
  }
 ],
 "metadata": {
  "kernelspec": {
   "display_name": "Python 3 (ipykernel)",
   "language": "python",
   "name": "python3"
  },
  "language_info": {
   "codemirror_mode": {
    "name": "ipython",
    "version": 3
   },
   "file_extension": ".py",
   "mimetype": "text/x-python",
   "name": "python",
   "nbconvert_exporter": "python",
   "pygments_lexer": "ipython3",
   "version": "3.11.5"
  }
 },
 "nbformat": 4,
 "nbformat_minor": 5
}
