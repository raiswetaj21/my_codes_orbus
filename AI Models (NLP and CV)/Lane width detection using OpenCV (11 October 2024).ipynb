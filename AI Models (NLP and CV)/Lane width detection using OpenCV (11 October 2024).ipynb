{
 "cells": [
  {
   "cell_type": "code",
   "execution_count": 1,
   "id": "812b9fd4",
   "metadata": {},
   "outputs": [],
   "source": [
    "import cv2\n",
    "import numpy as np\n",
    "import pandas as pd"
   ]
  },
  {
   "cell_type": "code",
   "execution_count": 2,
   "id": "50a7eb3e",
   "metadata": {},
   "outputs": [],
   "source": [
    "# Load the image\n",
    "image = cv2.imread('lane_image.jpg')"
   ]
  },
  {
   "cell_type": "markdown",
   "id": "08ba667c",
   "metadata": {},
   "source": [
    "# Iteration 1"
   ]
  },
  {
   "cell_type": "code",
   "execution_count": 3,
   "id": "f6ca934e",
   "metadata": {},
   "outputs": [],
   "source": [
    "# Convert the image to grayscale\n",
    "gray = cv2.cvtColor(image, cv2.COLOR_BGR2GRAY)"
   ]
  },
  {
   "cell_type": "code",
   "execution_count": 4,
   "id": "0d69de56",
   "metadata": {},
   "outputs": [],
   "source": [
    "# Apply Gaussian blur to reduce noise\n",
    "blurred = cv2.GaussianBlur(gray, (5, 5), 0)"
   ]
  },
  {
   "cell_type": "code",
   "execution_count": 5,
   "id": "1b7fd217",
   "metadata": {},
   "outputs": [],
   "source": [
    "# Perform Canny edge detection\n",
    "edges = cv2.Canny(blurred, 50, 150)"
   ]
  },
  {
   "cell_type": "code",
   "execution_count": 6,
   "id": "52002acd",
   "metadata": {},
   "outputs": [],
   "source": [
    "# Find the contours of the edges\n",
    "contours, _ = cv2.findContours(edges, cv2.RETR_EXTERNAL, cv2.CHAIN_APPROX_SIMPLE)"
   ]
  },
  {
   "cell_type": "code",
   "execution_count": 7,
   "id": "9b6ef7f8",
   "metadata": {},
   "outputs": [],
   "source": [
    "# Initialize variables to hold the leftmost and rightmost points\n",
    "leftmost = None\n",
    "rightmost = None"
   ]
  },
  {
   "cell_type": "code",
   "execution_count": 8,
   "id": "ce9adc80",
   "metadata": {},
   "outputs": [],
   "source": [
    "# Iterate through contours and find the extreme leftmost and rightmost points\n",
    "for contour in contours:\n",
    "    # Get extreme points for each contour\n",
    "    left_point = tuple(contour[contour[:, :, 0].argmin()][0])\n",
    "    right_point = tuple(contour[contour[:, :, 0].argmax()][0])\n",
    "    \n",
    "    # Update the leftmost and rightmost points for the road boundary\n",
    "    if leftmost is None or left_point[0] < leftmost[0]:\n",
    "        leftmost = left_point\n",
    "    if rightmost is None or right_point[0] > rightmost[0]:\n",
    "        rightmost = right_point"
   ]
  },
  {
   "cell_type": "code",
   "execution_count": 9,
   "id": "3d580e6e",
   "metadata": {},
   "outputs": [],
   "source": [
    "# Calculate the road width in pixels (distance between the leftmost and rightmost points)\n",
    "road_width_pixels = np.linalg.norm(np.array(leftmost) - np.array(rightmost))"
   ]
  },
  {
   "cell_type": "code",
   "execution_count": 10,
   "id": "70c085b1",
   "metadata": {},
   "outputs": [],
   "source": [
    "# Conversion from Pixels to Meters using the black car's width (assuming 1.5 meters for a nearby black taxi)\n",
    "car_width_meters = 1.5  # Estimated width of the black car in meters\n",
    "car_width_pixels = 150  # Approximate car width in pixels (adjust as necessary)"
   ]
  },
  {
   "cell_type": "code",
   "execution_count": 11,
   "id": "978dcf25",
   "metadata": {},
   "outputs": [],
   "source": [
    "# Calculate the pixel-to-meter ratio\n",
    "pixels_per_meter = car_width_pixels / car_width_meters"
   ]
  },
  {
   "cell_type": "code",
   "execution_count": 12,
   "id": "d63b43f5",
   "metadata": {},
   "outputs": [],
   "source": [
    "# Calculate the road width in meters\n",
    "road_width_meters = road_width_pixels / pixels_per_meter"
   ]
  },
  {
   "cell_type": "code",
   "execution_count": 13,
   "id": "ff2659c8",
   "metadata": {},
   "outputs": [],
   "source": [
    "# Convert road width to feet\n",
    "road_width_feet = road_width_meters * 3.28084"
   ]
  },
  {
   "cell_type": "code",
   "execution_count": 14,
   "id": "b723f9ab",
   "metadata": {
    "scrolled": true
   },
   "outputs": [
    {
     "data": {
      "text/plain": [
       "array([[[131, 142, 146],\n",
       "        [138, 145, 148],\n",
       "        [145, 146, 150],\n",
       "        ...,\n",
       "        [ 84,  93,  90],\n",
       "        [ 74,  83,  80],\n",
       "        [ 63,  72,  69]],\n",
       "\n",
       "       [[128, 139, 143],\n",
       "        [139, 145, 150],\n",
       "        [146, 147, 151],\n",
       "        ...,\n",
       "        [ 94, 103, 100],\n",
       "        [ 91, 100,  97],\n",
       "        [ 80,  89,  86]],\n",
       "\n",
       "       [[130, 140, 147],\n",
       "        [142, 148, 153],\n",
       "        [148, 147, 151],\n",
       "        ...,\n",
       "        [ 94, 101,  98],\n",
       "        [100, 107, 104],\n",
       "        [ 93, 100,  97]],\n",
       "\n",
       "       ...,\n",
       "\n",
       "       [[ 72,  83, 113],\n",
       "        [ 76,  87, 117],\n",
       "        [ 89, 100, 128],\n",
       "        ...,\n",
       "        [ 76,  78,  79],\n",
       "        [ 68,  69,  73],\n",
       "        [ 69,  70,  74]],\n",
       "\n",
       "       [[ 77,  88, 118],\n",
       "        [ 75,  86, 116],\n",
       "        [ 83,  94, 122],\n",
       "        ...,\n",
       "        [ 76,  78,  79],\n",
       "        [ 71,  72,  76],\n",
       "        [ 66,  67,  71]],\n",
       "\n",
       "       [[ 78,  89, 119],\n",
       "        [ 72,  83, 113],\n",
       "        [ 74,  85, 113],\n",
       "        ...,\n",
       "        [ 66,  68,  69],\n",
       "        [ 78,  79,  83],\n",
       "        [ 82,  83,  87]]], dtype=uint8)"
      ]
     },
     "execution_count": 14,
     "metadata": {},
     "output_type": "execute_result"
    }
   ],
   "source": [
    "# Draw the detected leftmost and rightmost road boundaries\n",
    "road_image = image.copy()\n",
    "cv2.circle(road_image, leftmost, 10, (0, 255, 0), -1)  # Leftmost point\n",
    "cv2.circle(road_image, rightmost, 10, (0, 255, 0), -1)  # Rightmost point"
   ]
  },
  {
   "cell_type": "code",
   "execution_count": 15,
   "id": "8c9f6dde",
   "metadata": {
    "scrolled": true
   },
   "outputs": [
    {
     "data": {
      "text/plain": [
       "array([[[131, 142, 146],\n",
       "        [138, 145, 148],\n",
       "        [145, 146, 150],\n",
       "        ...,\n",
       "        [ 84,  93,  90],\n",
       "        [ 74,  83,  80],\n",
       "        [ 63,  72,  69]],\n",
       "\n",
       "       [[128, 139, 143],\n",
       "        [139, 145, 150],\n",
       "        [146, 147, 151],\n",
       "        ...,\n",
       "        [ 94, 103, 100],\n",
       "        [ 91, 100,  97],\n",
       "        [ 80,  89,  86]],\n",
       "\n",
       "       [[130, 140, 147],\n",
       "        [142, 148, 153],\n",
       "        [148, 147, 151],\n",
       "        ...,\n",
       "        [ 94, 101,  98],\n",
       "        [100, 107, 104],\n",
       "        [ 93, 100,  97]],\n",
       "\n",
       "       ...,\n",
       "\n",
       "       [[ 72,  83, 113],\n",
       "        [ 76,  87, 117],\n",
       "        [ 89, 100, 128],\n",
       "        ...,\n",
       "        [ 76,  78,  79],\n",
       "        [ 68,  69,  73],\n",
       "        [ 69,  70,  74]],\n",
       "\n",
       "       [[ 77,  88, 118],\n",
       "        [ 75,  86, 116],\n",
       "        [ 83,  94, 122],\n",
       "        ...,\n",
       "        [ 76,  78,  79],\n",
       "        [ 71,  72,  76],\n",
       "        [ 66,  67,  71]],\n",
       "\n",
       "       [[ 78,  89, 119],\n",
       "        [ 72,  83, 113],\n",
       "        [ 74,  85, 113],\n",
       "        ...,\n",
       "        [ 66,  68,  69],\n",
       "        [ 78,  79,  83],\n",
       "        [ 82,  83,  87]]], dtype=uint8)"
      ]
     },
     "execution_count": 15,
     "metadata": {},
     "output_type": "execute_result"
    }
   ],
   "source": [
    "# Draw a line between the leftmost and rightmost points (representing road width)\n",
    "cv2.line(road_image, leftmost, rightmost, (255, 0, 0), 2)"
   ]
  },
  {
   "cell_type": "code",
   "execution_count": 16,
   "id": "2e9463fd",
   "metadata": {
    "scrolled": true
   },
   "outputs": [
    {
     "data": {
      "text/plain": [
       "array([[[131, 142, 146],\n",
       "        [138, 145, 148],\n",
       "        [145, 146, 150],\n",
       "        ...,\n",
       "        [ 84,  93,  90],\n",
       "        [ 74,  83,  80],\n",
       "        [ 63,  72,  69]],\n",
       "\n",
       "       [[128, 139, 143],\n",
       "        [139, 145, 150],\n",
       "        [146, 147, 151],\n",
       "        ...,\n",
       "        [ 94, 103, 100],\n",
       "        [ 91, 100,  97],\n",
       "        [ 80,  89,  86]],\n",
       "\n",
       "       [[130, 140, 147],\n",
       "        [142, 148, 153],\n",
       "        [148, 147, 151],\n",
       "        ...,\n",
       "        [ 94, 101,  98],\n",
       "        [100, 107, 104],\n",
       "        [ 93, 100,  97]],\n",
       "\n",
       "       ...,\n",
       "\n",
       "       [[ 72,  83, 113],\n",
       "        [ 76,  87, 117],\n",
       "        [ 89, 100, 128],\n",
       "        ...,\n",
       "        [ 76,  78,  79],\n",
       "        [ 68,  69,  73],\n",
       "        [ 69,  70,  74]],\n",
       "\n",
       "       [[ 77,  88, 118],\n",
       "        [ 75,  86, 116],\n",
       "        [ 83,  94, 122],\n",
       "        ...,\n",
       "        [ 76,  78,  79],\n",
       "        [ 71,  72,  76],\n",
       "        [ 66,  67,  71]],\n",
       "\n",
       "       [[ 78,  89, 119],\n",
       "        [ 72,  83, 113],\n",
       "        [ 74,  85, 113],\n",
       "        ...,\n",
       "        [ 66,  68,  69],\n",
       "        [ 78,  79,  83],\n",
       "        [ 82,  83,  87]]], dtype=uint8)"
      ]
     },
     "execution_count": 16,
     "metadata": {},
     "output_type": "execute_result"
    }
   ],
   "source": [
    "# Add text annotation showing the road width in feet\n",
    "font = cv2.FONT_HERSHEY_SIMPLEX\n",
    "text = f\"Lane Width: {road_width_feet:.2f} ft\"\n",
    "cv2.putText(road_image, text, (int((leftmost[0] + rightmost[0]) / 2), leftmost[1] - 10), font, 0.7, (255, 0, 0), 2, cv2.LINE_AA)"
   ]
  },
  {
   "cell_type": "code",
   "execution_count": 20,
   "id": "74c7b28a",
   "metadata": {},
   "outputs": [],
   "source": [
    "# Display the final image with the correct annotation\n",
    "cv2.imshow(\"Lane Width in Feet\", road_image)\n",
    "cv2.waitKey(0)\n",
    "cv2.destroyAllWindows()"
   ]
  },
  {
   "cell_type": "code",
   "execution_count": 18,
   "id": "20241852",
   "metadata": {},
   "outputs": [
    {
     "name": "stdout",
     "output_type": "stream",
     "text": [
      "Road width in pixels: 639.41 pixels\n",
      "Road width in meters: 6.39 meters\n",
      "Road width in feet: 20.98 feet\n"
     ]
    }
   ],
   "source": [
    "# Print the calculated width for reference\n",
    "print(f\"Lane width in pixels: {road_width_pixels:.2f} pixels\")\n",
    "print(f\"Lane width in meters: {road_width_meters:.2f} meters\")\n",
    "print(f\"Lane width in feet: {road_width_feet:.2f} feet\")"
   ]
  }
 ],
 "metadata": {
  "kernelspec": {
   "display_name": "Python 3 (ipykernel)",
   "language": "python",
   "name": "python3"
  },
  "language_info": {
   "codemirror_mode": {
    "name": "ipython",
    "version": 3
   },
   "file_extension": ".py",
   "mimetype": "text/x-python",
   "name": "python",
   "nbconvert_exporter": "python",
   "pygments_lexer": "ipython3",
   "version": "3.11.5"
  }
 },
 "nbformat": 4,
 "nbformat_minor": 5
}
